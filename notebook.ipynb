{
 "cells": [
  {
   "cell_type": "code",
   "execution_count": 1,
   "metadata": {},
   "outputs": [],
   "source": [
    "# reload imports.\n",
    "%load_ext autoreload\n",
    "%autoreload 2"
   ]
  },
  {
   "cell_type": "markdown",
   "metadata": {},
   "source": [
    "### Get a sample size\n",
    "\n",
    "We can't test on all of them. Let's find an acceptable sample size and isolate some\n",
    "We'll pull from geometry - their solution had the most trouble w/ geometry, and lots of variance on it."
   ]
  },
  {
   "cell_type": "code",
   "execution_count": 2,
   "metadata": {},
   "outputs": [
    {
     "data": {
      "text/plain": [
       "479"
      ]
     },
     "execution_count": 2,
     "metadata": {},
     "output_type": "execute_result"
    }
   ],
   "source": [
    "import os\n",
    "import json\n",
    "\n",
    "# Gemotry - t\n",
    "folder_path = \"./MATH/test/geometry/\"\n",
    "json_files = [f for f in os.listdir(folder_path) if f.endswith('.json')]\n",
    "\n",
    "# Store each in list\n",
    "json_objects = []\n",
    "for file in json_files:\n",
    "    file_path = os.path.join(folder_path, file)\n",
    "    with open(file_path, 'r') as f:\n",
    "        json_data = json.load(f)\n",
    "        json_data[\"file_path\"]=file_path # Add file path so we can keep track of them easily\n",
    "        json_objects.append(json_data)\n",
    "\n",
    "len(json_objects)"
   ]
  },
  {
   "cell_type": "markdown",
   "metadata": {},
   "source": [
    "Let's only do the hard ones - these are the ones they test in the paper"
   ]
  },
  {
   "cell_type": "code",
   "execution_count": 3,
   "metadata": {},
   "outputs": [
    {
     "name": "stdout",
     "output_type": "stream",
     "text": [
      "[{'problem': \"A solid $5\\\\times 5\\\\times 5$ cube is composed of unit cubes. Each face of the large, solid cube is partially painted with gray paint, as shown. [asy]\\n\\nfill((0,0)--(0,1)--(1,1)--(1,0)--cycle,gray);\\n\\nfill((0,4)--(0,5)--(1,5)--(1,4)--cycle,gray);\\n\\nfill((4,1)--(5,1)--(5,0)--(4,0)--cycle,gray);\\n\\nfill((1,2)--(2,2)--(2,1)--(1,1)--cycle,gray);\\n\\nfill((2,2)--(3,2)--(3,1)--(2,1)--cycle,gray);\\n\\nfill((3,2)--(4,2)--(4,1)--(3,1)--cycle,gray);\\n\\nfill((1,3)--(2,3)--(2,2)--(1,2)--cycle,gray);\\n\\nfill((3,3)--(4,3)--(4,2)--(3,2)--cycle,gray);\\n\\nfill((1,4)--(2,4)--(2,3)--(1,3)--cycle,gray);\\n\\nfill((2,4)--(3,4)--(3,3)--(2,3)--cycle,gray);\\n\\nfill((3,4)--(4,4)--(4,3)--(3,3)--cycle,gray);\\n\\nfill((4,5)--(5,5)--(5,4)--(4,4)--cycle,gray);\\n\\ndraw((0,0)--(0,1)--(1,1)--(1,0)--(0,0),rgb(0,0,0));\\n\\ndraw((0,1)--(0,2)--(1,2)--(1,1),rgb(0,0,0));\\n\\ndraw((0,2)--(0,3)--(1,3)--(1,2),rgb(0,0,0));\\n\\ndraw((0,3)--(0,4)--(1,4)--(1,3),rgb(0,0,0));\\n\\ndraw((0,4)--(0,5)--(1,5)--(1,4),rgb(0,0,0));\\n\\ndraw((1,0)--(1,1)--(2,1)--(2,0)--(1,0),rgb(0,0,0));\\n\\ndraw((2,1)--(3,1)--(3,0)--(2,0),rgb(0,0,0));\\n\\ndraw((3,1)--(4,1)--(4,0)--(3,0),rgb(0,0,0));\\n\\ndraw((4,1)--(5,1)--(5,0)--(4,0),rgb(0,0,0));\\n\\ndraw((1,2)--(2,2)--(2,1)--(1,1),rgb(0,0,0));\\n\\ndraw((2,2)--(3,2)--(3,1)--(2,1)--(2,2),rgb(0,0,0));\\n\\ndraw((3,2)--(4,2)--(4,1),rgb(0,0,0));\\n\\ndraw((4,2)--(5,2)--(5,1)--(4,1),rgb(0,0,0));\\n\\ndraw((1,3)--(2,3)--(2,2)--(1,2)--(1,3),rgb(0,0,0));\\n\\ndraw((2,3)--(3,3)--(3,2),rgb(0,0,0));\\n\\ndraw((3,3)--(4,3)--(4,2),rgb(0,0,0));\\n\\ndraw((4,3)--(5,3)--(5,2),rgb(0,0,0));\\n\\ndraw((1,4)--(2,4)--(2,3),rgb(0,0,0));\\n\\ndraw((2,4)--(3,4)--(3,3),rgb(0,0,0));\\n\\ndraw((3,4)--(4,4)--(4,3),rgb(0,0,0));\\n\\ndraw((4,4)--(5,4)--(5,3),rgb(0,0,0));\\n\\ndraw((1,5)--(2,5)--(2,4),rgb(0,0,0));\\n\\ndraw((2,5)--(3,5)--(3,4),rgb(0,0,0));\\n\\ndraw((3,5)--(4,5)--(4,4),rgb(0,0,0));\\n\\ndraw((4,5)--(5,5)--(5,4),rgb(0,0,0));\\n\\n[/asy] \\t \\tWhat fraction of the entire solid cube's unit cubes have no paint on them? Express your answer as a common fraction.\", 'level': 'Level 5', 'type': 'Geometry', 'solution': 'We know that each of the unit cubes in the $3\\\\times3\\\\times3$ cube in the center of the $5\\\\times5\\\\times5$ cube has no paint on it. On the surface of the cube, three of the unit cubes on each edge of the big cube have no paint on them, and the center unit cube of each face of the big cube has no paint on it. Since a cube has $12$ edges and $6$ faces, this makes a total of $3\\\\cdot3\\\\cdot3 + 12\\\\cdot3 + 6\\\\cdot1 = 69$ unit cubes with no paint on them. There are $125$ unit cubes altogether. The fraction with no paint is $\\\\boxed{\\\\frac{69}{125}}.$', 'file_path': './MATH/test/geometry/396.json'}]\n",
      "132\n"
     ]
    }
   ],
   "source": [
    "filtered_json_objects = [obj for obj in json_objects if obj.get('level') == 'Level 5']\n",
    "print(filtered_json_objects[:1])\n",
    "print(len(filtered_json_objects))\n"
   ]
  },
  {
   "cell_type": "markdown",
   "metadata": {},
   "source": [
    "There is 132. HOw many of these at random do we need to pick to get a reasonable estimate?\n",
    "\n",
    "We can use the finite sample size forumla\n",
    "\n"
   ]
  },
  {
   "cell_type": "code",
   "execution_count": 4,
   "metadata": {},
   "outputs": [
    {
     "name": "stdout",
     "output_type": "stream",
     "text": [
      "Required sample size: 56\n"
     ]
    }
   ],
   "source": [
    "import math\n",
    "\n",
    "\n",
    "# Copied from equation here: https://online.stat.psu.edu/stat415/lesson/6/6.3\n",
    "def calculate_sample_size(N, p_hat, Z, E):\n",
    "    m = (Z**2 * p_hat * (1 - p_hat)) / (E**2)\n",
    "    n = m / (1 + ((m - 1) / N))\n",
    "\n",
    "    return math.ceil(n)\n",
    "\n",
    "N = len(filtered_json_objects) # 132 for geometry\n",
    "p_hat = 0.5      # Estimated proportion - unknown so use .50\n",
    "Z = 1.96         # Z-score for 95% confidence level\n",
    "E = 0.10         # Desired margin of error \n",
    "\n",
    "# Calculate the required sample size\n",
    "required_sample_size = calculate_sample_size(N, p_hat, Z, E)\n",
    "print(f\"Required sample size: {required_sample_size}\")\n"
   ]
  },
  {
   "cell_type": "markdown",
   "metadata": {},
   "source": [
    "Even at a 10% margin of error we would still need to run our test 56 times.. that'll cost:"
   ]
  },
  {
   "cell_type": "code",
   "execution_count": 5,
   "metadata": {},
   "outputs": [
    {
     "name": "stdout",
     "output_type": "stream",
     "text": [
      "$15.40\n"
     ]
    }
   ],
   "source": [
    "# 20-35 cents per run\n",
    "print(f\"${required_sample_size * ((.20+.35)/2):.2f}\")"
   ]
  },
  {
   "cell_type": "markdown",
   "metadata": {},
   "source": [
    "Such is the price we pay for progress. \n",
    "\n",
    "Let's isolate 56 random from the filtered_json_objects, and save this"
   ]
  },
  {
   "cell_type": "code",
   "execution_count": 6,
   "metadata": {},
   "outputs": [
    {
     "name": "stdout",
     "output_type": "stream",
     "text": [
      "56\n",
      "./MATH/test/geometry/393.json\n"
     ]
    }
   ],
   "source": [
    "import random\n",
    "\n",
    "random.seed(7) # lucky number 7\n",
    "\n",
    "length = len(filtered_json_objects)\n",
    "\n",
    "sampled = random.sample(filtered_json_objects, required_sample_size)\n",
    "\n",
    "print(len(sampled))\n",
    "print(sampled[0][\"file_path\"])"
   ]
  },
  {
   "cell_type": "markdown",
   "metadata": {},
   "source": [
    "4 objects at random"
   ]
  },
  {
   "cell_type": "markdown",
   "metadata": {},
   "source": [
    "### Experiment 1\n",
    "\n",
    "Let's take 5 for testing. And do a run of 3. This way we can compare the variances. \n",
    "We're going to log them and then verify them manually"
   ]
  },
  {
   "cell_type": "markdown",
   "metadata": {},
   "source": [
    "ok.. what do I want to do now?? Let's see.. I want to make a space to save the logs of each run, and then run on each one of these problems. The name of the log should include the file path. \n",
    "\n",
    "I'll have to change my logging code to log to somewhere specific. hmm...\n",
    "\n",
    "Then I want to try running it on how it is now.\n",
    "Then I want to run it w/ only using the code assistant for the executor. Maybe this will help reduce costs and not be that much more :)\n",
    "I can also try running w/ gpt 4o-mini on some of the simple tasks. e.g. summarizing. \n",
    "\n",
    "Then I can see which ones it's failing on. And see how they're both doing. And then we can go problem by problem and see what tweaks can fix things\n"
   ]
  },
  {
   "cell_type": "code",
   "execution_count": 7,
   "metadata": {},
   "outputs": [
    {
     "data": {
      "text/plain": [
       "dict_keys(['problem', 'level', 'type', 'solution', 'file_path'])"
      ]
     },
     "execution_count": 7,
     "metadata": {},
     "output_type": "execute_result"
    }
   ],
   "source": [
    "import random\n",
    "\n",
    "random.seed(10)\n",
    "samples = random.sample(filtered_json_objects, 5)\n",
    "samples[0].keys()"
   ]
  },
  {
   "cell_type": "markdown",
   "metadata": {},
   "source": [
    "#### Main 1"
   ]
  },
  {
   "cell_type": "code",
   "execution_count": 8,
   "metadata": {},
   "outputs": [
    {
     "name": "stdout",
     "output_type": "stream",
     "text": [
      "skipping\n"
     ]
    }
   ],
   "source": [
    "%%script echo skipping\n",
    "# Unfortunately this clears the output, but used to avoid running this (40 minute) process each time\n",
    "\n",
    "\n",
    "from utils.custom_logger import CustomLogger\n",
    "from utils.create_assistant import create_agents_and_thread\n",
    "from chains.main1.main import main\n",
    "\n",
    "# Use the same agents and threads to (ideally) limit code sessions\n",
    "coding_assistant, coding_thread = create_agents_and_thread()\n",
    "\n",
    "# Do 3 runs\n",
    "for i in range(3):\n",
    "    # Do 5 problems\n",
    "    for j, problem in enumerate(samples):\n",
    "        CustomLogger.update_path(f\"run-{i}/problem-{j}\")\n",
    "        CustomLogger.default_log(\"Problem File Path\", problem[\"file_path\"])\n",
    "\n",
    "        max_times_mining_new = 1  # The upper limit of the mining times\n",
    "        question = problem[\"problem\"]\n",
    "        main(question, max_times_mining_new, coding_assistant, coding_thread)\n"
   ]
  },
  {
   "cell_type": "markdown",
   "metadata": {},
   "source": [
    "Observations:\n",
    "\n",
    "New ideas:\n",
    "- Seems like we fail on the steps being wrong - try checking these & improving the prompt to not calculate yet\n",
    "1. Add a verify_steps function, and improve the steps prompt"
   ]
  },
  {
   "cell_type": "markdown",
   "metadata": {},
   "source": [
    "#### Main 2"
   ]
  },
  {
   "cell_type": "code",
   "execution_count": 9,
   "metadata": {},
   "outputs": [
    {
     "name": "stdout",
     "output_type": "stream",
     "text": [
      "skipping\n"
     ]
    }
   ],
   "source": [
    "%%script echo skipping\n",
    "import re\n",
    "from utils.custom_logger import CustomLogger\n",
    "from utils.create_assistant import create_agents_and_thread\n",
    "from chains.main2.main import main # THIS IS THE ONLY DIFFERENCE\n",
    "\n",
    "\n",
    "# Use the same agents and threads to (ideally) limit code sessions\n",
    "coding_assistant, coding_thread = create_agents_and_thread()\n",
    "\n",
    "# Make nested arr\n",
    "verify_arr = [f\"Problem {i} -> \" for i,_ in enumerate(samples)]\n",
    "# 3 runs of 5 problems\n",
    "for i in range(3):\n",
    "    for j, problem in enumerate(samples):\n",
    "        CustomLogger.update_path(f\"run-{i}/problem-{j}\")\n",
    "        CustomLogger.default_log(\"Problem File Path\", problem[\"file_path\"])\n",
    "\n",
    "        max_times_mining_new = 1  # The upper limit of the mining times\n",
    "        question = problem[\"problem\"]\n",
    "        our_answer = main(question, max_times_mining_new, coding_assistant, coding_thread)\n",
    "\n",
    "\n",
    "        # TODO: fix the capture group - currently it says everything is incorrect\n",
    "        # Validate\n",
    "    \n",
    "        # This long regex *should* recursively balance the ending parentheses\n",
    "        actual_answer = re.search(r'\\\\boxed{((?:[^{}]+|{(?:[^{}]+|{[^{}]*})*})*)}', problem[\"solution\"]).group(1)\n",
    "        if actual_answer:\n",
    "            CustomLogger.default_log(\"Actual Answer\", actual_answer)\n",
    "            if True:\n",
    "                CustomLogger.default_log(\"Correct\")\n",
    "                verify_arr[j]+= \"correct \"\n",
    "        \n",
    "        else:\n",
    "            CustomLogger.default_log(\"Incorrect\")\n",
    "            verify_arr[j]+= \"incorrect \"\n",
    "            \n",
    "\n",
    "# Log verify arr -> validation\n",
    "CustomLogger.update_path(\"validation\")\n",
    "CustomLogger.default_log(\"Results\", *verify_arr)\n"
   ]
  },
  {
   "cell_type": "markdown",
   "metadata": {},
   "source": [
    "Observations:\n",
    "\n",
    "- The re-assessment of steps we added is good. But for instance in run 0 problem 3, the reassessment fails twice in a row so we just kep going. We need to explain why it fails and then add that context to the step creator.\n",
    "1. To do this we can ask it to explain why its failing - let's do a schema w/ true false and reason. Since schema doesn't generate intermediate, lets do two calls, one normal and one schema. \n",
    "\n",
    "- Also in problem 3, I think we end up with conditions that I think were contradictory. To improve this we can do two things. \n",
    "1. Generate less conditions each time, and then increase the amount of mining loops we do\n",
    "2. After finishing all the mining, ask if any conditions are contradictory. If they are, return those indices\n",
    "\n",
    "\n",
    "\n",
    "Changes for main 3-\n",
    "1. added reasoning for failed steps, to be passed to step creator in the form of optional_comment\n",
    "2. Updated verify steps to use schema & tweaked prompt\n",
    "3. Limit conditions to generate each time both by asking GPT and through slicing\n",
    "\n",
    "4. Experimented w/ a double check of conditions, but got into a bit of a snarl. If two conditions are contradictory, how do we know which is true? We have to re-wind a lot, and it gets confusing. This might not work without a drastic overhaul of the system.\n",
    "\n"
   ]
  },
  {
   "cell_type": "markdown",
   "metadata": {},
   "source": [
    "#### Main 3"
   ]
  },
  {
   "cell_type": "code",
   "execution_count": 10,
   "metadata": {},
   "outputs": [
    {
     "name": "stdout",
     "output_type": "stream",
     "text": [
      "skipping\n"
     ]
    }
   ],
   "source": [
    "%%script echo skipping\n",
    "import re\n",
    "from utils.custom_logger import CustomLogger\n",
    "from utils.create_assistant import create_agents_and_thread\n",
    "from chains.main3.main import main # THIS IS THE ONLY DIFFERENCE\n",
    "\n",
    "\n",
    "# Use the same agents and threads to (ideally) limit code sessions\n",
    "coding_assistant, coding_thread = create_agents_and_thread()\n",
    "\n",
    "# This long regex *should* recursively balance the ending parentheses\n",
    "def get_boxed(problem):\n",
    "    return re.search(r'\\\\boxed{((?:[^{}]+|{(?:[^{}]+|{[^{}]*})*})*)}', problem[\"solution\"]).group(1)\n",
    "\n",
    "MAX_MINING = 3 # Bumped this up!\n",
    "\n",
    "\n",
    "generated_answers = [f\"Problem {i} -> \" for i,_ in enumerate(samples)]\n",
    "actual_answers= [f\"Problem {i} -> {get_boxed(problem)}\" for i, problem in enumerate(samples)]\n",
    "# 3 runs of 5 problems\n",
    "for i in range(3):\n",
    "    for j, problem in enumerate(samples):\n",
    "        CustomLogger.update_path(f\"run-{i}/problem-{j}\")\n",
    "        CustomLogger.default_log(\"Problem File Path\", problem[\"file_path\"])\n",
    "\n",
    "        question = problem[\"problem\"]\n",
    "        our_answer = main(question, MAX_MINING, coding_assistant, coding_thread)\n",
    "        generated_answers[j]+= f\"{our_answer}, \"\n",
    "\n",
    "        CustomLogger.default_log(\"Correct Answer:\", get_boxed(problem))\n",
    "            \n",
    "# TODO: It would be cool to auto compare them - however the actual answers are given in formula form, e.g. 3/5. \n",
    "CustomLogger.update_path(\"validation\")\n",
    "CustomLogger.default_log(\"Generated\", *generated_answers)\n",
    "CustomLogger.default_log(\"Actual\", *actual_answers)\n"
   ]
  },
  {
   "cell_type": "markdown",
   "metadata": {},
   "source": [
    "**Observations from main 3**\n",
    "\n",
    "- There's at least one instance of the executor failing to execute correctly. Lets add in a quick sanity check after the executor finishes. This sanity check, if it fails, triggers a re-run of the execution plus a reason (DO and DO NOT) for why it failed\n",
    "\n",
    "- The logs are getting way too long. I need to trim them down. I'll probably switch to logging in main. I want to keep the full logs somewhere though, I just also want to have non-full logs.\n",
    "\n",
    "- I also want to switch to async since right now it takes forever..\n"
   ]
  },
  {
   "cell_type": "markdown",
   "metadata": {},
   "source": [
    "#### Main 4"
   ]
  },
  {
   "cell_type": "code",
   "execution_count": 11,
   "metadata": {},
   "outputs": [
    {
     "name": "stdout",
     "output_type": "stream",
     "text": [
      "skipping\n"
     ]
    }
   ],
   "source": [
    "%%script echo skipping\n",
    "import anyio\n",
    "import re\n",
    "from chains.main4.main import main4\n",
    "from utils.create_assistant import create_agents_and_thread, WorkSpace\n",
    "from utils.custom_logger import CustomLogger\n",
    "from utils.async_logger import AsyncLogger\n",
    "from contextlib import asynccontextmanager\n",
    "from collections import deque\n",
    "\n",
    "\n",
    "class WorkSpacePool():\n",
    "    def __init__(self, workspaces: list[WorkSpace]):\n",
    "        self.workspaces = deque(workspaces)\n",
    "        self.semaphore = anyio.Semaphore(len(workspaces))\n",
    "\n",
    "    @asynccontextmanager\n",
    "    async def get_space(self):\n",
    "        async with self.semaphore:\n",
    "            workspace = self.workspaces.popleft()\n",
    "            try:\n",
    "                yield workspace\n",
    "            finally:\n",
    "                self.workspaces.append(workspace)\n",
    "\n",
    "def get_boxed(problem):\n",
    "    return re.search(r'\\\\boxed{((?:[^{}]+|{(?:[^{}]+|{[^{}]*})*})*)}', problem[\"solution\"]).group(1)\n",
    "\n",
    "MAX_MINING = 3 \n",
    "generated_answers = [f\"Problem {i} -> \" for i, _ in enumerate(samples)]\n",
    "actual_answers= [f\"Problem {i} -> {get_boxed(problem)}\" for i, problem in enumerate(samples)]\n",
    "failed_samples = []\n",
    "results = []  \n",
    "\n",
    "# Async wrapper - modifies global results to get the results out of the async\n",
    "async def wrapper(pool: WorkSpacePool, question, log_path, j):\n",
    "    async with pool.get_space() as workspace:\n",
    "        try:\n",
    "            # Attempt to get result from main4\n",
    "            result = await main4(question, MAX_MINING, workspace.assistant, workspace.thread, log_path)\n",
    "            results.append(result)\n",
    "            generated_answers[j] += f\"{result}, \" #TODO: the ordering in the generated answers may be incorrect b.c. async \n",
    "        except Exception as e:\n",
    "            # Handle main4 failure, log it, and store the problem for later re-run\n",
    "            CustomLogger.print(f\"Error on problem {j} in run {log_path}: {e}\")\n",
    "            failed_samples.append((log_path, question, j))  #TODO: do something w/ the failed samples\n",
    "            AsyncLogger.add_message(log_path, \"Error\", str(e))\n",
    "            AsyncLogger.flush_one(log_path)\n",
    "\n",
    "async def main():\n",
    "    #TODO: switch to individual timedelta for each run...\n",
    "    # Record start time so we can get timedelta for each run.\n",
    "    CustomLogger.start_watch() \n",
    "\n",
    "    # Limit the number of concurrent tasks to avoid rate limits & code session charges :)\n",
    "    workspaces = [create_agents_and_thread() for _ in range(5)]\n",
    "    pool = WorkSpacePool(workspaces)\n",
    "\n",
    "    async with anyio.create_task_group() as tg:\n",
    "       for i in range(3):\n",
    "            for j, problem in enumerate(samples):\n",
    "                log_path = f\"run-{i}/problem-{j}\"\n",
    "                AsyncLogger.add_message(log_path, \"Problem File Path\", problem[\"file_path\"])\n",
    "                question = problem[\"problem\"]\n",
    "                tg.start_soon(wrapper, pool, question, log_path, j) \n",
    "    \n",
    "    CustomLogger.print(\"All answers collected.\")\n",
    "\n",
    "    CustomLogger.update_path(\"validation\")\n",
    "    CustomLogger.default_log(\"Generated\", *generated_answers)\n",
    "    CustomLogger.default_log(\"Actual\", *actual_answers)\n",
    "\n",
    "\n",
    "try:\n",
    "    await main()\n",
    "except Exception as main_exception:\n",
    "    CustomLogger.print(f\"Exception in main: {main_exception}\")\n"
   ]
  },
  {
   "cell_type": "markdown",
   "metadata": {},
   "source": [
    "Awesome! I was able to make it asynchronous. I have a couple ideas of what to do next.\n",
    "\n",
    "1. My first is that I think the way I've been validating is less than ideal. Instead of running on 15 I can instead run the same problem ~5 or so times. And I can aim for getting the same problem correct every time. If I can improve its percentage of being correct, I can track progress better than 5x3. I can even run the same problem 10 times for the same cost as before. \n",
    "\n",
    "2. Next - I started thinking about the idea behind this process in the first place. The idea is to break it into smaller logical chunks and verify those. However, we get incorrect sections of logic. Sometimes we have an incorrect formula, or its applied incorrectly, or sometimes conditions contradict each other.\n",
    "\n",
    "It would be good to be able to trace back our steps in logic - see what conditions each other condition is built off of.\n",
    "- We could try generating one condition at a time, and see what that looks like. And then build a history. This history is important so we can roll back and check. And periodically we can walk through and check our work. \n",
    "\n",
    "3. When we write the steps for the end, it would be good to standardize the language. More than that, it would be good to standardize what each step uses. Something like Use [technique or condition] along with [conditions] to calculate [step answer] which is needed because [reason]\n",
    "\n",
    "4. It would be nice to have mini objectives. I'm looking at the solution for one of the problems written out. It's something like:\n",
    "    - Draw diagram. Triangle is equilateral. Because of that, it's area is <area formula>\n",
    "    - Draw on the diagram to show this given representation. *notice* that this makes 3 new triangles. We can sum their areas to find the total area. This gives us an equation.\n",
    "    \n",
    "    Each step has an objective, or a couple. It's setting up the problem for us. The condition gathering tries to mimic this process - each condition is supposed to be basically a mini step. However, we generate multiple at a time, and we don't differentiate which ones came first. So we treat them all with the same level. We need a chronological order. This way we can see what leads to other conditions.\n",
    "\n",
    "5. Are the original extracted conditions always good? Can we get some way of getting pretty much always the same extracted conditions from the problem? If we run it e.g. 5 times and pull them together can we achieve this? We can also consider going back and getting more conditions from the problem - sometimes we will hit steps that will cause us to need to know more problem info.\n",
    "    - Hmm.. so its impossible to know ahead of time exactly which conditions will be needed. We can pull some, but I think as we go through the problem we will want to revise the problem statement and get new conditions. We should do this in general I think - revising early parts to see what else we can get from it. Again, we need the history. I think to have effective history we need a specific structure - like reason, calculation, assumption.\n",
    "    \n",
    "\n",
    "Summary of these thoughts and implementation:\n",
    "- run on 1 problem 10-15 times.\n",
    "- chronological history w/ standardized language and 'steps'\n",
    "- Can the standardized language/steps include some sort of mini objective?\n",
    "- As the problem develops and our history/steps gets longer, we may realize that we need to go back and check a condition that didn't seem important before - e.g. if a triangle is equilateral. How can we handle this? more importantly, *where* should be this be stored? The 'chronological' history will be used to create final steps, so it should be placed in the history somewhere where it doesn't affect things. This requires us to re-check unfortunately.."
   ]
  },
  {
   "cell_type": "markdown",
   "metadata": {},
   "source": [
    "### New Tactic!\n",
    "Based on the above ideas..\n",
    "\n",
    "Let's walk through making a new process in a notebook format. The functions used will be stored in new_stuff to avoid too much clutter\n",
    "\n"
   ]
  },
  {
   "cell_type": "code",
   "execution_count": 12,
   "metadata": {},
   "outputs": [
    {
     "name": "stdout",
     "output_type": "stream",
     "text": [
      "Point $P$ is inside equilateral triangle $ABC$ such that the altitudes from $P$ to $\\overline{AB}$, $\\overline{BC}$, and $\\overline{CA}$ have lengths 5, 6, and 7 respectively.  What is the area of triangle $ABC$?\n"
     ]
    }
   ],
   "source": [
    "# Starting with question 0 since it's not too hard. We normally get it right most times.\n",
    "# Let's see if we can get it right every time, & use it to refine our approach\n",
    "\n",
    "\n",
    "question = samples[0]['problem']\n",
    "print(question)\n"
   ]
  },
  {
   "cell_type": "markdown",
   "metadata": {},
   "source": [
    "Working Process:\n",
    "\n",
    "Stored:\n",
    "- Given conditions *directly from problem* - can be updated\n",
    "- Proven mathematical relationships - written as formulas\n",
    "- Problem relationships - written without math, just words\n",
    "- Intermediate math relationships - numerical relationships between parts of the problem\n",
    "\n",
    "1. Get given conditions from problem\n",
    "\n",
    "2. Identify a directly related mathematical relationship from some number of conditions. Something like, because equilaterial triangle, we can use area formula a=s^2...\n",
    "    1. check this and make sure its a real condition (for now just ask gpt. Later we may want to test w/ code)\n",
    "    2. If it's not, add to list of false conditions? *TODO: think about how to do this without polluting*\n",
    "\n",
    "4. Identify a problem solving *method* that could lead to some further knowledge about the problem. This could be, e.g. we can make three smaller triangles, and we know their areas can be calculated, so this wil give us a formula\n",
    "    1. check and make sure it makes sense to try - will lead to more givens, and has a good reason aligned w/ the objectives list.\n",
    "    2. If not, keep trying. Somehow retain history to avoid duplicating and getting stuck.\n",
    "\n",
    "5. Once we have our method, we need to check the assumptions in it. \n",
    "    1. We need to verify the important mathematical relationships (adding them to our relationship list) - e.g. the area of a triangle equals 1/2 * bh.\n",
    "    2. We need to verify the specific problem relationships - e.g. the area of all the smaller triangles will sum to the larger one BECAUSE they are contained inside it.\n",
    "\n",
    "6. Finally, we implement our method, and see what new things we get from it. It should give use intermediate math relationships, basically just formulas with numbers plugged in. This will involve setting up formulas, then using code to calculate out equations\n",
    "\n",
    "7. Now we add the new things to our lists. The method gets added to our history? Hmm.. not sure what shoulod be stored in chronological history and what should be stored in just lists\n",
    "\n",
    "\n",
    "*for now we are going to move what used to be #3 to the end*\n",
    "\n",
    "3. Did this create a sub objective? If so, add it to objectives list. e.g. find side length FOR REASON can use formula to find goal."
   ]
  },
  {
   "cell_type": "code",
   "execution_count": 13,
   "metadata": {},
   "outputs": [],
   "source": [
    "# Sample logging code:\n",
    "# from utils.helpers import conditions_objectives_to_string\n",
    "# c_str, o_str = conditions_objectives_to_string(conditions, objectives)\n",
    "# AsyncLogger.add_message(\n",
    "#     log_path, \"---\\nHistory Snapshot:\", \"Got givens (conditions, objective)\", c_str, o_str, \"\\n\"\n",
    "# )\n",
    "\n",
    "# AsyncLogger.flush()"
   ]
  },
  {
   "cell_type": "code",
   "execution_count": 14,
   "metadata": {},
   "outputs": [
    {
     "name": "stderr",
     "output_type": "stream",
     "text": [
      "Future exception was never retrieved\n",
      "future: <Future finished exception=BrokenPipeError(32, 'Broken pipe')>\n",
      "Traceback (most recent call last):\n",
      "  File \"/Users/dmccanns/miniforge3/envs/macm/lib/python3.10/asyncio/unix_events.py\", line 676, in write\n",
      "    n = os.write(self._fileno, data)\n",
      "BrokenPipeError: [Errno 32] Broken pipe\n"
     ]
    },
    {
     "name": "stdout",
     "output_type": "stream",
     "text": [
      "['Point P is inside equilateral triangle ABC.', 'The altitude from point P to side AB has a length of 5.', 'The altitude from point P to side BC has a length of 6.', 'The altitude from point P to side CA has a length of 7.', 'Triangle ABC is equilateral, implying all its internal angles are 60 degrees.', 'The three sides of triangle ABC are of equal length.', 'The location of point P is such that it forms perpendiculars to all three sides AB, BC, and CA.', 'Altitude from P mean the three lines from P to AB, BC, and CA intersect perpendicularly at those lines.']\n",
      "Determine the area of equilateral triangle ABC.\n"
     ]
    }
   ],
   "source": [
    "# 1. Conditions from question\n",
    "from new_stuff.all import givens_from_question\n",
    "\n",
    "log_path = 'problem0'\n",
    "storage= {}\n",
    "\n",
    "conditions, objectives = await givens_from_question(question)\n",
    "print(conditions)\n",
    "print(objectives)\n",
    "\n",
    "storage[\"conditions\"] = conditions\n",
    "storage[\"objectives\"] = objectives"
   ]
  },
  {
   "cell_type": "code",
   "execution_count": 15,
   "metadata": {},
   "outputs": [
    {
     "name": "stdout",
     "output_type": "stream",
     "text": [
      "[MathRelationship(conditions=[1, 2, 3, 4], relationship='Area = (1/2) [d1 * PA + d2 * PB + d3 * PC] = (1/2)[a*5 + a*6 + a*7] = 9*a', reason='This approach involves calculating the area of ΔABC using its subareas formed by perpendiculars from P to its sides, characterized by a ratio formula concerning altitudes.'), MathRelationship(conditions=[5, 6], relationship='Area = (sqrt(3)/4)*a^2', reason='Since ΔABC is an equilateral triangle, its area directly utilizes this formula, depending only on the length of its side a.')]\n",
      "relevant=False proven=False accept=False\n",
      "relevant=True proven=True accept=True\n"
     ]
    }
   ],
   "source": [
    "#2. Math relationships + verification\n",
    "from new_stuff.all import relationships_from_existing, verify_relationship\n",
    "\n",
    "relationships = await relationships_from_existing(conditions, objectives)\n",
    "print(relationships)\n",
    "\n",
    "new_relationships = []\n",
    "# Check that it exists - for now just ask gpt. If this is failing a lot then we can use coder\n",
    "for r in relationships:\n",
    "    ## TODO: fix relationships.value[2]. Move this back into the relationships_from_existing function. \n",
    "    verification = await verify_relationship(r, conditions, objectives)\n",
    "    print(verification)\n",
    "\n",
    "    if verification.accept:\n",
    "        new_relationships.append(r)\n",
    "\n",
    "storage[\"relationships\"] = new_relationships"
   ]
  },
  {
   "cell_type": "code",
   "execution_count": 16,
   "metadata": {},
   "outputs": [],
   "source": [
    "# 3. Sub-condition check (backwards problem solving) ??"
   ]
  },
  {
   "cell_type": "code",
   "execution_count": 19,
   "metadata": {},
   "outputs": [
    {
     "name": "stdout",
     "output_type": "stream",
     "text": [
      "method=\"### Methodology: Using Viviani's Theorem in Equilateral Triangle \\n\\n**Reasoning:**\\nViviani's Theorem states that in an equilateral triangle, the sum of the perpendicular distances from a point inside the triangle to the three sides is equal to the altitude of the triangle. This theorem allows us to compute the side of the equilateral triangle and further infer its area using the known formula for the area of an equilateral triangle.\\n\\n**Steps to Approach:**\\n1. **Sum of Altitudes from Point P:** \\n    - Sum the given perpendiculars from point \\\\(P\\\\) to the sides: \\n      \\\\(h_{PA} + h_{PB} + h_{PC} = 5 + 6 + 7 = 18\\\\).\\n\\n2. **Relate to the Altitude of Triangle ABC:** \\n    - According to Viviani’s Theorem, this sum (18) is equal to the altitude \\\\(H\\\\) of the equilateral triangle\\\\(ABC\\\\). Therefore, \\\\(H = 18\\\\).\\n\\n3. **Use the Formula for Altitude in an Equilateral Triangle:** \\n   - The altitude \\\\(H\\\\) of an equilateral triangle with side \\\\(a\\\\) is given by the formula:\\n     \\\\[\\n     H = \\\\frac{\\\\sqrt{3}}{2}a\\n     \\\\]\\n   - We have \\\\(H = 18\\\\), so setting this equal to the formula gives:\\n     \\\\[\\n     18 = \\\\frac{\\\\sqrt{3}}{2}a\\n     \\\\]\\n\\n4. **Solve for Side Length \\\\(a\\\\):**\\n   - Multiply both sides by \\\\(\\\\frac{2}{\\\\sqrt{3}}\\\\) to isolate \\\\(a\\\\):\\n     \\\\[\\n     a = \\\\frac{2 \\\\times 18}{\\\\sqrt{3}} = \\\\frac{36}{\\\\sqrt{3}} = 12\\\\sqrt{3}\\n    \\\\]\\n\\n5. **Calculate the Area of Triangle ABC:**\\n   - Finally, using the formula for the area of an equilateral triangle:\\n     \\\\[\\n     \\\\text{Area} = \\\\frac{\\\\sqrt{3}}{4}a^2\\n     \\\\]\\n   - Substitute \\\\(a = 12\\\\sqrt{3}\\\\):\\n     \\\\[\\n     \\\\text{Area} = \\\\frac{\\\\sqrt{3}}{4}(12\\\\sqrt{3})^2 = \\\\frac{\\\\sqrt{3}}{4}(432) = 108\\\\sqrt{3}\\n     \\\\]\\n\\nThis process provides a method to determine the area of the triangle by leveraging the properties of equilateral triangles and Viviani’s Theorem. It addresses the objective by refining our understanding of the geometry involved and taking logical steps based on established theorems and calculations.\" reason=\"By applying Viviani's Theorem and leveraging the geometric properties of an equilateral triangle, we deduce the altitude and side length systematically, leading to the calculation of the desired area.\"\n"
     ]
    }
   ],
   "source": [
    "#4. Find a method to get more information\n",
    "from new_stuff.all import find_method\n",
    "\n",
    "method = await find_method(question, storage[\"relationships\"], storage[\"conditions\"], storage[\"objectives\"])\n",
    "print(method)\n",
    "\n"
   ]
  },
  {
   "cell_type": "markdown",
   "metadata": {},
   "source": [
    "Hmmm... I'm not finished with this method but I think I'm under-utilizing the knowledge of the LLM. I also think I'm going about this process backwards. Instead I could ask it what the first step? is and kind of iterate recursively breaking it down smaller and smaller. \n",
    "\n",
    "What are the problems here?\n",
    "    - I'm afraid it will try and do the whole thing in one shot. And we know this doesnt work\n",
    "    - But if I ask it to just do one step its harder\n",
    "\n",
    "I want to somehow like ask it for its step, and then recursively break this down and check each step. This way I can use it's problem solving ability.\n",
    "\n",
    "\n",
    "Maybe I should try asking it to solve to the end to start, and have it return a list of steps. Then I can go back and see how many are correct?\n",
    "We can limit this by only having it create max 5 steps.\n",
    "\n",
    "We have it find the first step that is incorrect. the first mistake. Then we go from the beginning to there, and each step we check:\n",
    "1. Should we break this further into steps? is it detailed?\n",
    "    1. If so, repeat this process and recurse\n",
    "2. If not, then we analyze this step, and extract the following things\n",
    "    - Proven mathematical relationships - written as formulas\n",
    "    - Problem relationships - written without math, just words. Some sort of logical condition in the project\n",
    "    - Intermediate math relationships - numerical relationships between parts of the problem. Only valid in this context. Uses a math formula and some specific knowledge. Break up into a proven math rel and a problem rel\n",
    "\n",
    "3. We need to verify the above. \n",
    "    - Proven math relations can be verified by asking\n",
    "    - Problem relationships verified by asking as well\n",
    "    - Intermediate math relationships should have any math relations verified, then any problem relationships verified, then finally they should be executed and verified with code\n",
    "\n",
    "4. Now the step is good to go. We can re-write it to show the verified above things. We can also store the proven relationships and problem relationships seperately. \n",
    "\n",
    "5. Now if at any point in the larger step we had a problem, we are going to have to recalculate the rest of the steps. If it's the same we can continue through the steps, but if its different it may change the next ones.\n",
    "    - I think this is fine. We need some way of error correcting, and propogating that correction"
   ]
  },
  {
   "cell_type": "markdown",
   "metadata": {},
   "source": [
    "### Tactic 2:\n",
    "1. Ask what it would like to do - what is the first step, given what we have.\n",
    "2. Then analyze the step it returns - what is the rationale behind it? What outside theorems does it use? What new assumptions does it make?\n",
    "3. Check each assumption individually, and iterate until we get a good first step.\n",
    "4. Then do this step, update the knowns, and then repeat the process until we get the objective"
   ]
  }
 ],
 "metadata": {
  "kernelspec": {
   "display_name": "Python 3",
   "language": "python",
   "name": "python3"
  },
  "language_info": {
   "codemirror_mode": {
    "name": "ipython",
    "version": 3
   },
   "file_extension": ".py",
   "mimetype": "text/x-python",
   "name": "python",
   "nbconvert_exporter": "python",
   "pygments_lexer": "ipython3",
   "version": "3.10.15"
  }
 },
 "nbformat": 4,
 "nbformat_minor": 2
}
