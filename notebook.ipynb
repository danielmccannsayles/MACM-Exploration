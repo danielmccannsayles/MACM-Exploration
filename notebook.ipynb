{
 "cells": [
  {
   "cell_type": "code",
   "execution_count": 9,
   "metadata": {},
   "outputs": [
    {
     "data": {
      "text/plain": [
       "479"
      ]
     },
     "execution_count": 9,
     "metadata": {},
     "output_type": "execute_result"
    }
   ],
   "source": [
    "import os\n",
    "import json\n",
    "\n",
    "# Gemotry - their solution had the most trouble w/ geometry.. let's aim high :D\n",
    "folder_path = \"./MATH/test/geometry/\"\n",
    "json_files = [f for f in os.listdir(folder_path) if f.endswith('.json')]\n",
    "\n",
    "# Store each in list\n",
    "json_objects = []\n",
    "for file in json_files:\n",
    "    file_path = os.path.join(folder_path, file)\n",
    "    with open(file_path, 'r') as f:\n",
    "        json_data = json.load(f)\n",
    "        json_objects.append(json_data)\n",
    "\n",
    "len(json_objects)"
   ]
  },
  {
   "cell_type": "markdown",
   "metadata": {},
   "source": [
    "Let's only do the hard ones"
   ]
  },
  {
   "cell_type": "code",
   "execution_count": 8,
   "metadata": {},
   "outputs": [
    {
     "data": {
      "text/plain": [
       "[{'problem': \"A solid $5\\\\times 5\\\\times 5$ cube is composed of unit cubes. Each face of the large, solid cube is partially painted with gray paint, as shown. [asy]\\n\\nfill((0,0)--(0,1)--(1,1)--(1,0)--cycle,gray);\\n\\nfill((0,4)--(0,5)--(1,5)--(1,4)--cycle,gray);\\n\\nfill((4,1)--(5,1)--(5,0)--(4,0)--cycle,gray);\\n\\nfill((1,2)--(2,2)--(2,1)--(1,1)--cycle,gray);\\n\\nfill((2,2)--(3,2)--(3,1)--(2,1)--cycle,gray);\\n\\nfill((3,2)--(4,2)--(4,1)--(3,1)--cycle,gray);\\n\\nfill((1,3)--(2,3)--(2,2)--(1,2)--cycle,gray);\\n\\nfill((3,3)--(4,3)--(4,2)--(3,2)--cycle,gray);\\n\\nfill((1,4)--(2,4)--(2,3)--(1,3)--cycle,gray);\\n\\nfill((2,4)--(3,4)--(3,3)--(2,3)--cycle,gray);\\n\\nfill((3,4)--(4,4)--(4,3)--(3,3)--cycle,gray);\\n\\nfill((4,5)--(5,5)--(5,4)--(4,4)--cycle,gray);\\n\\ndraw((0,0)--(0,1)--(1,1)--(1,0)--(0,0),rgb(0,0,0));\\n\\ndraw((0,1)--(0,2)--(1,2)--(1,1),rgb(0,0,0));\\n\\ndraw((0,2)--(0,3)--(1,3)--(1,2),rgb(0,0,0));\\n\\ndraw((0,3)--(0,4)--(1,4)--(1,3),rgb(0,0,0));\\n\\ndraw((0,4)--(0,5)--(1,5)--(1,4),rgb(0,0,0));\\n\\ndraw((1,0)--(1,1)--(2,1)--(2,0)--(1,0),rgb(0,0,0));\\n\\ndraw((2,1)--(3,1)--(3,0)--(2,0),rgb(0,0,0));\\n\\ndraw((3,1)--(4,1)--(4,0)--(3,0),rgb(0,0,0));\\n\\ndraw((4,1)--(5,1)--(5,0)--(4,0),rgb(0,0,0));\\n\\ndraw((1,2)--(2,2)--(2,1)--(1,1),rgb(0,0,0));\\n\\ndraw((2,2)--(3,2)--(3,1)--(2,1)--(2,2),rgb(0,0,0));\\n\\ndraw((3,2)--(4,2)--(4,1),rgb(0,0,0));\\n\\ndraw((4,2)--(5,2)--(5,1)--(4,1),rgb(0,0,0));\\n\\ndraw((1,3)--(2,3)--(2,2)--(1,2)--(1,3),rgb(0,0,0));\\n\\ndraw((2,3)--(3,3)--(3,2),rgb(0,0,0));\\n\\ndraw((3,3)--(4,3)--(4,2),rgb(0,0,0));\\n\\ndraw((4,3)--(5,3)--(5,2),rgb(0,0,0));\\n\\ndraw((1,4)--(2,4)--(2,3),rgb(0,0,0));\\n\\ndraw((2,4)--(3,4)--(3,3),rgb(0,0,0));\\n\\ndraw((3,4)--(4,4)--(4,3),rgb(0,0,0));\\n\\ndraw((4,4)--(5,4)--(5,3),rgb(0,0,0));\\n\\ndraw((1,5)--(2,5)--(2,4),rgb(0,0,0));\\n\\ndraw((2,5)--(3,5)--(3,4),rgb(0,0,0));\\n\\ndraw((3,5)--(4,5)--(4,4),rgb(0,0,0));\\n\\ndraw((4,5)--(5,5)--(5,4),rgb(0,0,0));\\n\\n[/asy] \\t \\tWhat fraction of the entire solid cube's unit cubes have no paint on them? Express your answer as a common fraction.\",\n",
       "  'level': 'Level 5',\n",
       "  'type': 'Geometry',\n",
       "  'solution': 'We know that each of the unit cubes in the $3\\\\times3\\\\times3$ cube in the center of the $5\\\\times5\\\\times5$ cube has no paint on it. On the surface of the cube, three of the unit cubes on each edge of the big cube have no paint on them, and the center unit cube of each face of the big cube has no paint on it. Since a cube has $12$ edges and $6$ faces, this makes a total of $3\\\\cdot3\\\\cdot3 + 12\\\\cdot3 + 6\\\\cdot1 = 69$ unit cubes with no paint on them. There are $125$ unit cubes altogether. The fraction with no paint is $\\\\boxed{\\\\frac{69}{125}}.$'}]"
      ]
     },
     "execution_count": 8,
     "metadata": {},
     "output_type": "execute_result"
    }
   ],
   "source": [
    "filtered_json_objects = [obj for obj in json_objects if obj.get('level') == 'Level 5']\n",
    "filtered_json_objects[:1]"
   ]
  },
  {
   "cell_type": "markdown",
   "metadata": {},
   "source": [
    "4 objects at random"
   ]
  },
  {
   "cell_type": "code",
   "execution_count": 16,
   "metadata": {},
   "outputs": [
    {
     "name": "stdout",
     "output_type": "stream",
     "text": [
      "dict_keys(['problem', 'level', 'type', 'solution'])\n"
     ]
    }
   ],
   "source": [
    "import random\n",
    "\n",
    "random.seed(10)\n",
    "samples = random.sample(filtered_json_objects, 4)\n",
    "\n",
    "print(samples[0].keys())"
   ]
  },
  {
   "cell_type": "markdown",
   "metadata": {},
   "source": [
    "First we can test how the condition extraction is going"
   ]
  },
  {
   "cell_type": "code",
   "execution_count": 21,
   "metadata": {},
   "outputs": [
    {
     "name": "stdout",
     "output_type": "stream",
     "text": [
      "=============\n",
      "Given reasoning:\n",
      "We begin by drawing a diagram:\n",
      "\n",
      "[asy]\n",
      "pair A,B,C,P,X,Y,Z;\n",
      "real s=12*sqrt(3);\n",
      "A=(0,0); C=(s,0); B=(s/2,s/2*sqrt(3)); P=(9.5,7); X= foot(P,B,C); Y=foot(P,A,B); Z=foot(P,A,C);\n",
      "draw(A--B--C--cycle); draw(P--Z); draw(P--Y); draw(P--X);\n",
      "draw(rightanglemark(P,X,B,25)); draw(rightanglemark(P,Z,C,25)); draw(rightanglemark(P,Y,A,25));\n",
      "\n",
      "label(\"$A$\",A,SW); label(\"$B$\",B,N); label(\"$C$\",C,SE); label(\"$P$\",P,SE);\n",
      "label(\"$7$\",P--Z,W); label(\"$6$\",P--X,S); label(\"$5$\",P--Y,NE);\n",
      "[/asy]\n",
      "\n",
      "Let the side length of triangle $ABC$ be $s$; since it is equilateral, its area is $\\frac{s^2\\sqrt{3}}{4}$.\n",
      "\n",
      "Now, we draw segments from $P$ to the three vertices of triangle $ABC$, which divides the triangle into three smaller triangles: $\\triangle APB$, $\\triangle BPC$, and $\\triangle CPA$.\n",
      "\n",
      "[asy]\n",
      "pair A,B,C,P,X,Y,Z;\n",
      "real s=12*sqrt(3);\n",
      "A=(0,0); C=(s,0); B=(s/2,s/2*sqrt(3)); P=(9.5,7); X= foot(P,B,C); Y=foot(P,A,B); Z=foot(P,A,C);\n",
      "\n",
      "label(\"$A$\",A,SW); label(\"$B$\",B,N); label(\"$C$\",C,SE); label(\"$P$\",P,SE);\n",
      "label(\"$7$\",P--Z,W); label(\"$6$\",P--X,S); label(\"$5$\",P--Y,NE);\n",
      "\n",
      "fill(P--A--B--cycle,rgb(135,206,250));\n",
      "\n",
      "fill(P--A--C--cycle,yellow);\n",
      "fill(P--B--C--cycle,rgb(107,142,35));\n",
      "\n",
      "draw(P--A,dashed); draw(P--B,dashed); draw(P--C,dashed);\n",
      "draw(A--B--C--cycle); draw(P--Z); draw(P--Y); draw(P--X);\n",
      "\n",
      "[/asy]\n",
      "\n",
      "We can compute the area of these three small triangles, and sum their areas to get the area of equilateral $\\triangle ABC$.  We compute the area of triangle $APB$ by using $AB$ as the base and 5 as the height.  $AB$ has length $s$, so \\[[\\triangle APB] = \\frac{1}{2}(s)(5).\\]Similarly, $[\\triangle BPC] = \\frac{1}{2}(s)(6)$ and $[\\triangle APC] = \\frac{1}{2}(s)(7)$.\n",
      "\n",
      "We have \\[[\\triangle ABC] = [\\triangle APB] + [\\triangle BPC] + [\\triangle CPA],\\]or  \\begin{align*}\n",
      "\\frac{s^2\\sqrt{3}}{4} &= \\frac{1}{2}(s)(5)+\\frac{1}{2}(s)(6)+\\frac{1}{2}(s)(7)\\\\\n",
      "&=\\frac{1}{2}(s)(5+6+7)\\\\\n",
      "&=9s.\n",
      "\\end{align*}We can divide both sides of the above simplified equation by $s$, since side lengths are positive and not zero, to get $\\frac{s\\sqrt{3}}{4}=9$.  Solving for $s$ gives \\[s=9\\cdot \\frac{4}{\\sqrt{3}}=12\\sqrt{3}.\\]Finally, the area of triangle $ABC$ is \\[[\\triangle ABC] = \\frac{s^2\\sqrt{3}}{4}=\\left(\\frac{s\\sqrt{3}}{4}\\right)(s) = (9)(12\\sqrt{3})=\\boxed{108\\sqrt{3}}.\\]\n",
      "=============\n",
      "Question:\n",
      "Point $P$ is inside equilateral triangle $ABC$ such that the altitudes from $P$ to $\\overline{AB}$, $\\overline{BC}$, and $\\overline{CA}$ have lengths 5, 6, and 7 respectively.  What is the area of triangle $ABC$?\n",
      "==============\n",
      "The conditions are:\n",
      "\n",
      "Point P is inside triangle ABC\n",
      "Triangle ABC is equilateral\n",
      "The altitude from point P to line segment AB is 5\n",
      "The altitude from point P to line segment BC is 6\n",
      "The altitude from point P to line segment CA is 7\n",
      "The objectives are\n",
      ":\n",
      "Calculate the area of triangle ABC\n"
     ]
    }
   ],
   "source": [
    "from macm.thinker import extract_from_original\n",
    "\n",
    "question = samples[0]\n",
    "\n",
    "print(\"=============\\nGiven reasoning:\")\n",
    "print(question[\"solution\"])\n",
    "\n",
    "print(\"=============\\nQuestion:\")\n",
    "print(question[\"problem\"])\n",
    "\n",
    "\n",
    "conditions, objectives = extract_from_original(question[\"problem\"])\n",
    "\n",
    "print(\"==============\\nThe conditions are:\\n\", *conditions, sep='\\n')\n",
    "print(\"The objectives are\\n:\", *objectives, sep='\\n')\n",
    "\n",
    "\n"
   ]
  }
 ],
 "metadata": {
  "kernelspec": {
   "display_name": "Python 3",
   "language": "python",
   "name": "python3"
  },
  "language_info": {
   "codemirror_mode": {
    "name": "ipython",
    "version": 3
   },
   "file_extension": ".py",
   "mimetype": "text/x-python",
   "name": "python",
   "nbconvert_exporter": "python",
   "pygments_lexer": "ipython3",
   "version": "3.10.11"
  }
 },
 "nbformat": 4,
 "nbformat_minor": 2
}
