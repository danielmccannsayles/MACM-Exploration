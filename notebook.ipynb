{
 "cells": [
  {
   "cell_type": "code",
   "execution_count": 1,
   "metadata": {},
   "outputs": [],
   "source": [
    "# reload imports.\n",
    "%load_ext autoreload\n",
    "%autoreload 2"
   ]
  },
  {
   "cell_type": "markdown",
   "metadata": {},
   "source": [
    "### Get a sample size\n",
    "\n",
    "We can't test on all of them. Let's find an acceptable sample size and isolate some\n",
    "We'll pull from geometry - their solution had the most trouble w/ geometry, and lots of variance on it."
   ]
  },
  {
   "cell_type": "code",
   "execution_count": 2,
   "metadata": {},
   "outputs": [
    {
     "data": {
      "text/plain": [
       "479"
      ]
     },
     "execution_count": 2,
     "metadata": {},
     "output_type": "execute_result"
    }
   ],
   "source": [
    "import os\n",
    "import json\n",
    "\n",
    "# Gemotry - t\n",
    "folder_path = \"./MATH/test/geometry/\"\n",
    "json_files = [f for f in os.listdir(folder_path) if f.endswith('.json')]\n",
    "\n",
    "# Store each in list\n",
    "json_objects = []\n",
    "for file in json_files:\n",
    "    file_path = os.path.join(folder_path, file)\n",
    "    with open(file_path, 'r') as f:\n",
    "        json_data = json.load(f)\n",
    "        json_data[\"file_path\"]=file_path # Add file path so we can keep track of them easily\n",
    "        json_objects.append(json_data)\n",
    "\n",
    "len(json_objects)"
   ]
  },
  {
   "cell_type": "markdown",
   "metadata": {},
   "source": [
    "Let's only do the hard ones - these are the ones they test in the paper"
   ]
  },
  {
   "cell_type": "code",
   "execution_count": 3,
   "metadata": {},
   "outputs": [
    {
     "name": "stdout",
     "output_type": "stream",
     "text": [
      "[{'problem': \"A solid $5\\\\times 5\\\\times 5$ cube is composed of unit cubes. Each face of the large, solid cube is partially painted with gray paint, as shown. [asy]\\n\\nfill((0,0)--(0,1)--(1,1)--(1,0)--cycle,gray);\\n\\nfill((0,4)--(0,5)--(1,5)--(1,4)--cycle,gray);\\n\\nfill((4,1)--(5,1)--(5,0)--(4,0)--cycle,gray);\\n\\nfill((1,2)--(2,2)--(2,1)--(1,1)--cycle,gray);\\n\\nfill((2,2)--(3,2)--(3,1)--(2,1)--cycle,gray);\\n\\nfill((3,2)--(4,2)--(4,1)--(3,1)--cycle,gray);\\n\\nfill((1,3)--(2,3)--(2,2)--(1,2)--cycle,gray);\\n\\nfill((3,3)--(4,3)--(4,2)--(3,2)--cycle,gray);\\n\\nfill((1,4)--(2,4)--(2,3)--(1,3)--cycle,gray);\\n\\nfill((2,4)--(3,4)--(3,3)--(2,3)--cycle,gray);\\n\\nfill((3,4)--(4,4)--(4,3)--(3,3)--cycle,gray);\\n\\nfill((4,5)--(5,5)--(5,4)--(4,4)--cycle,gray);\\n\\ndraw((0,0)--(0,1)--(1,1)--(1,0)--(0,0),rgb(0,0,0));\\n\\ndraw((0,1)--(0,2)--(1,2)--(1,1),rgb(0,0,0));\\n\\ndraw((0,2)--(0,3)--(1,3)--(1,2),rgb(0,0,0));\\n\\ndraw((0,3)--(0,4)--(1,4)--(1,3),rgb(0,0,0));\\n\\ndraw((0,4)--(0,5)--(1,5)--(1,4),rgb(0,0,0));\\n\\ndraw((1,0)--(1,1)--(2,1)--(2,0)--(1,0),rgb(0,0,0));\\n\\ndraw((2,1)--(3,1)--(3,0)--(2,0),rgb(0,0,0));\\n\\ndraw((3,1)--(4,1)--(4,0)--(3,0),rgb(0,0,0));\\n\\ndraw((4,1)--(5,1)--(5,0)--(4,0),rgb(0,0,0));\\n\\ndraw((1,2)--(2,2)--(2,1)--(1,1),rgb(0,0,0));\\n\\ndraw((2,2)--(3,2)--(3,1)--(2,1)--(2,2),rgb(0,0,0));\\n\\ndraw((3,2)--(4,2)--(4,1),rgb(0,0,0));\\n\\ndraw((4,2)--(5,2)--(5,1)--(4,1),rgb(0,0,0));\\n\\ndraw((1,3)--(2,3)--(2,2)--(1,2)--(1,3),rgb(0,0,0));\\n\\ndraw((2,3)--(3,3)--(3,2),rgb(0,0,0));\\n\\ndraw((3,3)--(4,3)--(4,2),rgb(0,0,0));\\n\\ndraw((4,3)--(5,3)--(5,2),rgb(0,0,0));\\n\\ndraw((1,4)--(2,4)--(2,3),rgb(0,0,0));\\n\\ndraw((2,4)--(3,4)--(3,3),rgb(0,0,0));\\n\\ndraw((3,4)--(4,4)--(4,3),rgb(0,0,0));\\n\\ndraw((4,4)--(5,4)--(5,3),rgb(0,0,0));\\n\\ndraw((1,5)--(2,5)--(2,4),rgb(0,0,0));\\n\\ndraw((2,5)--(3,5)--(3,4),rgb(0,0,0));\\n\\ndraw((3,5)--(4,5)--(4,4),rgb(0,0,0));\\n\\ndraw((4,5)--(5,5)--(5,4),rgb(0,0,0));\\n\\n[/asy] \\t \\tWhat fraction of the entire solid cube's unit cubes have no paint on them? Express your answer as a common fraction.\", 'level': 'Level 5', 'type': 'Geometry', 'solution': 'We know that each of the unit cubes in the $3\\\\times3\\\\times3$ cube in the center of the $5\\\\times5\\\\times5$ cube has no paint on it. On the surface of the cube, three of the unit cubes on each edge of the big cube have no paint on them, and the center unit cube of each face of the big cube has no paint on it. Since a cube has $12$ edges and $6$ faces, this makes a total of $3\\\\cdot3\\\\cdot3 + 12\\\\cdot3 + 6\\\\cdot1 = 69$ unit cubes with no paint on them. There are $125$ unit cubes altogether. The fraction with no paint is $\\\\boxed{\\\\frac{69}{125}}.$', 'file_path': './MATH/test/geometry/396.json'}]\n",
      "132\n"
     ]
    }
   ],
   "source": [
    "filtered_json_objects = [obj for obj in json_objects if obj.get('level') == 'Level 5']\n",
    "print(filtered_json_objects[:1])\n",
    "print(len(filtered_json_objects))\n"
   ]
  },
  {
   "cell_type": "markdown",
   "metadata": {},
   "source": [
    "There is 132. HOw many of these at random do we need to pick to get a reasonable estimate?\n",
    "\n",
    "We can use the finite sample size forumla\n",
    "\n"
   ]
  },
  {
   "cell_type": "code",
   "execution_count": 4,
   "metadata": {},
   "outputs": [
    {
     "name": "stdout",
     "output_type": "stream",
     "text": [
      "Required sample size: 56\n"
     ]
    }
   ],
   "source": [
    "import math\n",
    "\n",
    "\n",
    "# Copied from equation here: https://online.stat.psu.edu/stat415/lesson/6/6.3\n",
    "def calculate_sample_size(N, p_hat, Z, E):\n",
    "    m = (Z**2 * p_hat * (1 - p_hat)) / (E**2)\n",
    "    n = m / (1 + ((m - 1) / N))\n",
    "\n",
    "    return math.ceil(n)\n",
    "\n",
    "N = len(filtered_json_objects) # 132 for geometry\n",
    "p_hat = 0.5      # Estimated proportion - unknown so use .50\n",
    "Z = 1.96         # Z-score for 95% confidence level\n",
    "E = 0.10         # Desired margin of error \n",
    "\n",
    "# Calculate the required sample size\n",
    "required_sample_size = calculate_sample_size(N, p_hat, Z, E)\n",
    "print(f\"Required sample size: {required_sample_size}\")\n"
   ]
  },
  {
   "cell_type": "markdown",
   "metadata": {},
   "source": [
    "Even at a 10% margin of error we would still need to run our test 56 times.. that'll cost:"
   ]
  },
  {
   "cell_type": "code",
   "execution_count": 5,
   "metadata": {},
   "outputs": [
    {
     "name": "stdout",
     "output_type": "stream",
     "text": [
      "$15.40\n"
     ]
    }
   ],
   "source": [
    "# 20-35 cents per run\n",
    "print(f\"${required_sample_size * ((.20+.35)/2):.2f}\")"
   ]
  },
  {
   "cell_type": "markdown",
   "metadata": {},
   "source": [
    "Such is the price we pay for progress. \n",
    "\n",
    "Let's isolate 56 random from the filtered_json_objects, and save this"
   ]
  },
  {
   "cell_type": "code",
   "execution_count": 6,
   "metadata": {},
   "outputs": [
    {
     "name": "stdout",
     "output_type": "stream",
     "text": [
      "56\n",
      "./MATH/test/geometry/393.json\n"
     ]
    }
   ],
   "source": [
    "import random\n",
    "\n",
    "random.seed(7) # lucky number 7\n",
    "\n",
    "length = len(filtered_json_objects)\n",
    "\n",
    "sampled = random.sample(filtered_json_objects, required_sample_size)\n",
    "\n",
    "print(len(sampled))\n",
    "print(sampled[0][\"file_path\"])"
   ]
  },
  {
   "cell_type": "markdown",
   "metadata": {},
   "source": [
    "4 objects at random"
   ]
  },
  {
   "cell_type": "markdown",
   "metadata": {},
   "source": [
    "### Experiment 1\n",
    "\n",
    "Let's take 5 for testing. And do a run of 3. This way we can compare the variances. \n",
    "We're going to log them and then verify them manually"
   ]
  },
  {
   "cell_type": "markdown",
   "metadata": {},
   "source": [
    "ok.. what do I want to do now?? Let's see.. I want to make a space to save the logs of each run, and then run on each one of these problems. The name of the log should include the file path. \n",
    "\n",
    "I'll have to change my logging code to log to somewhere specific. hmm...\n",
    "\n",
    "Then I want to try running it on how it is now.\n",
    "Then I want to run it w/ only using the code assistant for the executor. Maybe this will help reduce costs and not be that much more :)\n",
    "I can also try running w/ gpt 4o-mini on some of the simple tasks. e.g. summarizing. \n",
    "\n",
    "Then I can see which ones it's failing on. And see how they're both doing. And then we can go problem by problem and see what tweaks can fix things\n"
   ]
  },
  {
   "cell_type": "code",
   "execution_count": 7,
   "metadata": {},
   "outputs": [
    {
     "data": {
      "text/plain": [
       "dict_keys(['problem', 'level', 'type', 'solution', 'file_path'])"
      ]
     },
     "execution_count": 7,
     "metadata": {},
     "output_type": "execute_result"
    }
   ],
   "source": [
    "import random\n",
    "\n",
    "random.seed(10)\n",
    "samples = random.sample(filtered_json_objects, 5)\n",
    "samples[0].keys()"
   ]
  },
  {
   "cell_type": "markdown",
   "metadata": {},
   "source": [
    "#### Main 1"
   ]
  },
  {
   "cell_type": "code",
   "execution_count": 8,
   "metadata": {},
   "outputs": [
    {
     "name": "stdout",
     "output_type": "stream",
     "text": [
      "skipping\n"
     ]
    }
   ],
   "source": [
    "%%script echo skipping\n",
    "# Unfortunately this clears the output, but used to avoid running this (40 minute) process each time\n",
    "\n",
    "\n",
    "from utils.custom_logger import CustomLogger\n",
    "from utils.create_assistant import create_agents_and_thread\n",
    "from chains.main1.main import main\n",
    "\n",
    "# Use the same agents and threads to (ideally) limit code sessions\n",
    "coding_assistant, coding_thread = create_agents_and_thread()\n",
    "\n",
    "# Do 3 runs\n",
    "for i in range(3):\n",
    "    # Do 5 problems\n",
    "    for j, problem in enumerate(samples):\n",
    "        CustomLogger.update_path(f\"run-{i}/problem-{j}\")\n",
    "        CustomLogger.default_log(\"Problem File Path\", problem[\"file_path\"])\n",
    "\n",
    "        max_times_mining_new = 1  # The upper limit of the mining times\n",
    "        question = problem[\"problem\"]\n",
    "        main(question, max_times_mining_new, coding_assistant, coding_thread)\n"
   ]
  },
  {
   "cell_type": "markdown",
   "metadata": {},
   "source": [
    "Observations:\n",
    "\n",
    "New ideas:\n",
    "- Simplify the process a LOT and go step by step instead of condition mining\n",
    "- Seems like we fail on the steps being wrong - try checking these & improving the prompt to not calculate yet"
   ]
  },
  {
   "cell_type": "markdown",
   "metadata": {},
   "source": [
    "#### Main 2"
   ]
  },
  {
   "cell_type": "code",
   "execution_count": 9,
   "metadata": {},
   "outputs": [
    {
     "name": "stdout",
     "output_type": "stream",
     "text": [
      "Extracting conditions and objective(s) from problem..\n",
      "Mining new conditions from existing (1/1)\n",
      "Verifying condition #1..\n",
      "based_on_known_conditions=[1, 2, 3] new_condition='The area of equilateral triangle ABC is 6 * (5 + 6 + 7) / 3 = 36 square units.' reason='The area of the triangle can be determined using the relationship of the altitudes. For an equilateral triangle, if we denote the altitudes from an interior point to each side as h1, h2, and h3, the area A of the triangle satisfies the equation A = (2 / √3) * (h1 + h2 + h3). Using the given altitudes, A = (2 / √3) * 18. Simplifying gives us an approximate area of 36 square units based on the ratio method for altitudes.'\n",
      "\n",
      "Checking if we have the answer..\n",
      "True\n",
      "thinker is thinking steps...\n",
      "Executor is trying to calculate the answer...\n",
      "The final answer is 187.06\n",
      "Extracting conditions and objective(s) from problem..\n",
      "Mining new conditions from existing (1/1)\n",
      "Verifying condition #1..\n",
      "based_on_known_conditions=[1] new_condition='x^2 + y^2 ≤ 16' reason=\"The first inequality represents a circle centered at (4, 0) with radius 4. Shifting it to be centered at the origin for easier calculations is possible by substituting x' = x - 4, simplifying it to x^2 + y^2 ≤ 16.\"\n",
      "\n",
      "Verifying condition #2..\n",
      "based_on_known_conditions=[1] new_condition='x = 4 ± 4' reason='When y = 0, solve the equation (x-4)^2 = 16 to find x-intercepts, which are x = 8 and x = 0, aiding in visualizing the circle graph.'\n",
      "\n",
      "Verifying condition #3..\n",
      "based_on_known_conditions=[2, 3] new_condition='The region is above the line y=-\\\\frac{1}{3}x and above y=x-4' reason=\"The second and third inequalities define the half-planes above these lines. This condition helps visualize the possible overlap region with the circle's inequality.\"\n",
      "\n",
      "Verifying condition #4..\n",
      "based_on_known_conditions=[1, 2, 3] new_condition='y ≥ 0' reason=\"Both y=x-4 and y=-\\\\frac{1}{3}x intersect with the x-axis at y=0. Since the region must be above this and within the circle's bounds, y must be non-negative in the overlapping area.\"\n",
      "\n",
      "Verifying condition #5..\n",
      "based_on_known_conditions=[1, 2, 3] new_condition='x ≤ 6' reason='y=x-4 intersects (x-4)^2 + y^2 = 16 at x = 6. This restricts the potential x values for the triangular region.'\n",
      "\n",
      "Verifying condition #6..\n",
      "based_on_known_conditions=[1, 2, 3] new_condition='x must lie between 0 and 8 for relevant intersection consideration' reason='The circle extends to x=8, and the lines intersect within the region forming a bounded enclosed space. Therefore, intersection points from x=0 (where y=0) to x=8 are significant.'\n",
      "\n",
      "Checking if we have the answer..\n",
      "True\n",
      "thinker is thinking steps...\n",
      "Executor is trying to calculate the answer...\n",
      "The final answer is 8.41\n",
      "Extracting conditions and objective(s) from problem..\n",
      "Mining new conditions from existing (1/1)\n",
      "Verifying condition #1..\n",
      "based_on_known_conditions=[1, 2, 3] new_condition='Triangle ABC is a scalene triangle.' reason='Since sides AB, AC, and BC are all of different lengths (7, 8, and 9 units respectively), triangle ABC is a scalene triangle.'\n",
      "\n",
      "Verifying condition #2..\n",
      "based_on_known_conditions=[3, 4, 5] new_condition=\"Point 'D' is the intersection of the circumcircle with the angle bisector of angle BAC.\" reason=\"Since point 'D' lies on the circumcircle and line segment 'AD' bisects angle BAC, 'D' would naturally be on the locus of points that are equidistant from the sides of the angle, satisfying the angle bisector theorem.\"\n",
      "\n",
      "Verifying condition #3..\n",
      "based_on_known_conditions=[4, 5] new_condition='AD bisects angle BAC in such a way that AD:DC equals the ratio of the segments on the opposite angle being bisected.' reason='According to the angle bisector theorem, the ratio of the lengths of the two segments created by the angle bisector equals the ratio of the opposite sides of the triangle. Therefore, if D lies on AD (an angle bisector), AD/CD should be equal to AB/AC.'\n",
      "\n",
      "Checking if we have the answer..\n",
      "False\n",
      "thinker is thinking steps...\n",
      "Executor is trying to calculate the answer...\n",
      "The final answer is 0.875\n",
      "Extracting conditions and objective(s) from problem..\n",
      "Mining new conditions from existing (1/1)\n",
      "Verifying condition #1..\n",
      "based_on_known_conditions=[1] new_condition='W, X, Y, Z are 4 units vertically or horizontally away from the sides of the larger square.' reason='Since each smaller square with side length 2 is placed flush at the corner of the larger square, their centers are 1 unit away horizontally and vertically from the edges of the larger square. This makes the vertices W, X, Y, and Z each 3 units further horizontally or vertically from their respective centers, totaling 4 units from the edges of the larger square.'\n",
      "\n",
      "Verifying condition #2..\n",
      "based_on_known_conditions=[2, 3] new_condition='Square ABCD has side length 4.' reason=\"Vertices W, X, Y, and Z of the smaller squares form the vertices of square ABCD. Since each smaller square's edge length is 2, and each pair of vertices are along one line either horizontally or vertically, the distance between adjacent points like W and Z or X and Y is the side length of square ABCD.\"\n",
      "\n",
      "Verifying condition #3..\n",
      "based_on_known_conditions=[1, 2, 3] new_condition='Centroid of the larger square coincides with the centroid of square ABCD.' reason='Given symmetry, both squares are centered around the same central axis, which makes their centroids overlap as both sets of vertices (the corners of the larger square and ABCD) are symmetrically positioned.'\n",
      "\n",
      "Verifying condition #4..\n",
      "based_on_known_conditions=[3] new_condition=\"To maximize distance from A to P, point P should be as far diagonally as possible from A relative to the square's position.\" reason='The diagonal across square ABCD represents the longest line segment within it, implying this internal geometry should apply to positioning any point for maximizing spatial relationship attributes like distance.'\n",
      "\n",
      "Checking if we have the answer..\n",
      "True\n",
      "thinker is thinking steps...\n",
      "Executor is trying to calculate the answer...\n",
      "The final answer is 6.32\n",
      "Extracting conditions and objective(s) from problem..\n",
      "Mining new conditions from existing (1/1)\n",
      "Verifying condition #1..\n",
      "based_on_known_conditions=[0] new_condition='There are 20 possible combinations of selecting three unique integers from the set {1, 2, 3, 4, 5, 6}.' reason='Using the combination formula C(n, k) = n! / [k!(n-k)!], where n = 6 and k = 3, the number of ways to select 3 integers from 6 is calculated as C(6, 3).'\n",
      "\n",
      "Verifying condition #2..\n",
      "based_on_known_conditions=[0, 1] new_condition='A set of three integers can represent the side lengths of a triangle if the sum of the lengths of any two sides is greater than the length of the third side.' reason='This is the triangle inequality theorem, which states the necessary condition for three lengths to form a triangle.'\n",
      "\n",
      "Verifying condition #3..\n",
      "based_on_known_conditions=[0, 1] new_condition='Possible sets of selected integers are {(1, 2, 3), (1, 2, 4), ..., (4, 5, 6)}.' reason='Listing out all possible combinations (20 in total) ensures none are missed when applying the triangle inequality condition.'\n",
      "\n",
      "Verifying condition #4..\n",
      "based_on_known_conditions=[1, 2, 3] new_condition='Identify which combinations satisfy the triangle inequality condition to determine valid triangles.' reason='Each combination must satisfy the triangle inequality: a + b > c, b + c > a, and a + c > b (where a, b, c are the integers in a combination) to be considered valid.'\n",
      "\n",
      "Verifying condition #5..\n",
      "based_on_known_conditions=[3, 4] new_condition='Calculate the probability of selecting a combination of integers that can form the sides of a triangle.' reason='Probability is calculated as the number of successful outcomes divided by the total number of possible outcomes.'\n",
      "\n",
      "Checking if we have the answer..\n",
      "True\n",
      "thinker is thinking steps...\n",
      "Executor is trying to calculate the answer...\n",
      "The final answer is 0.35\n",
      "Extracting conditions and objective(s) from problem..\n",
      "Mining new conditions from existing (1/1)\n",
      "Verifying condition #1..\n",
      "based_on_known_conditions=[2, 3, 4, 5] new_condition='The area of triangle ABC can be expressed as the sum of the areas of triangles APB, BPC, and CPA, which equals (5*AB + 6*BC + 7*CA) / 2.' reason='Since P is inside triangle ABC, it divides ABC into three smaller triangles: APB, BPC, and CPA. The area of triangle ABC is the sum of the areas of these three triangles. The area of a triangle can be calculated using the formula Area = 0.5 \\\\times base \\\\times height. Here, the base for each sub-triangle is the corresponding side of triangle ABC, and the height is the given altitude from P to that side.'\n",
      "\n",
      "Verifying condition #2..\n",
      "based_on_known_conditions=[1, 2] new_condition='Each side of the equilateral triangle ABC has equal length.' reason='Given that triangle ABC is equilateral, all its sides are of equal length by definition.'\n",
      "\n",
      "Verifying condition #3..\n",
      "based_on_known_conditions=[2, 3, 4, 5] new_condition='The coordinates of point P and vertices A, B, C can be used to form a coordinate system for further calculations.' reason='By placing point P at the origin (0,0) and considering the given altitudes to sides AB, BC, and CA, a coordinate system can be set up for simplification of calculations, making use of symmetry and simplifying geometric reasoning for a triangle symmetrically placed.'\n",
      "\n",
      "Checking if we have the answer..\n",
      "True\n",
      "thinker is thinking steps...\n",
      "Executor is trying to calculate the answer...\n",
      "The final answer is 187.06\n",
      "Extracting conditions and objective(s) from problem..\n",
      "Mining new conditions from existing (1/1)\n",
      "Verifying condition #1..\n",
      "based_on_known_conditions=[1] new_condition='(x-4)^2 + y^2 = 16' reason='Convert the inequality of a circle to an equation to consider the boundary where the inequality is equal.'\n",
      "\n",
      "Verifying condition #2..\n",
      "based_on_known_conditions=[1, 2] new_condition='y = x-4 intersects the circle (x-4)^2+y^2=16' reason=\"To identify points on the line that might also lie on the circle's boundary. It determines regions where both conditions meet exactly.\"\n",
      "\n",
      "Verifying condition #3..\n",
      "based_on_known_conditions=[1, 3] new_condition='y = -1/3x intersects the circle (x-4)^2+y^2=16' reason='To find points where the boundary line of y = -1/3x is tangent or intersects the boundary of the circle, helping to establish areas between these points.'\n",
      "\n",
      "Verifying condition #4..\n",
      "based_on_known_conditions=[2, 3] new_condition='x - 4 = -1/3x, solving gives intersection point x = 3/4.' reason='Find the intersection point of the two lines to help establish limits for integration or geometric calculations.'\n",
      "\n",
      "Verifying condition #5..\n",
      "based_on_known_conditions=[1, 2, 3] new_condition='The region is bounded by the constraints and intersections of conditions 1, 2, and 3.' reason='Establish a clear closed region that can be quantified or analyzed further for area determination.'\n",
      "\n",
      "Checking if we have the answer..\n",
      "True\n",
      "thinker is thinking steps...\n",
      "Executor is trying to calculate the answer...\n",
      "The final answer is 30.34\n",
      "Extracting conditions and objective(s) from problem..\n",
      "Mining new conditions from existing (1/1)\n",
      "Verifying condition #1..\n",
      "based_on_known_conditions=[3, 4] new_condition=\"Triangle ABC can be described using Heron's formula by calculating its semi-perimeter: s = (7 + 8 + 9) / 2 = 12.\" reason=\"The semi-perimeter 's' is necessary to determine the area of the triangle, which will help in finding the bisector length using formulas related to triangle geometry.\"\n",
      "\n",
      "Verifying condition #2..\n",
      "based_on_known_conditions=[1, 2, 3, 4] new_condition='The circumradius (R) of triangle ABC can be determined using the formula R = abc / (4K), where a, b, c are the sides 7, 8, 9 and K is the area of the triangle.' reason='To determine the position of D on the circumcircle, the circumradius can provide information related to geometry within or outside of triangle ABC.'\n",
      "\n",
      "Verifying condition #3..\n",
      "based_on_known_conditions=[5, 6] new_condition='Point D is known as an arc midpoint on the circumcircle because it lies on the bisector extending through the opposite vertex.' reason=\"A property of arcs in a triangle's circumcircle is that the angle bisector through one vertex intersects the arc opposite that vertex.\"\n",
      "\n",
      "Verifying condition #4..\n",
      "based_on_known_conditions=[1, 2, 3, 4] new_condition='Angle A can be determined using the cosine rule: cosA = (b² + c² - a²) / 2bc = (8² + 9² - 7²) / (2*8*9).' reason='Knowing angle A can potentially determine expressions or useful relationships in triangle angle bisector theorems.'\n",
      "\n",
      "Checking if we have the answer..\n",
      "False\n",
      "thinker is thinking steps...\n",
      "Executor is trying to calculate the answer...\n",
      "The final answer is 1.67\n",
      "Extracting conditions and objective(s) from problem..\n",
      "Mining new conditions from existing (1/1)\n",
      "Verifying condition #1..\n",
      "based_on_known_conditions=[1, 2] new_condition='The sides of square ABCD are parallel to the axes of the large square.' reason='Since all small squares are placed at the corners of the large square with identical orientation and side length, any new square ABCD passing through their vertices must have sides aligned parallel or perpendicular to the original axes.'\n",
      "\n",
      "Verifying condition #2..\n",
      "based_on_known_conditions=[5, 6, 7, 8] new_condition='Points A, B, C, and D form a square with its center at (3, 3).' reason='Each point shifts directionally from a coordinate around (3, 3). The geometry implies a pivotal symmetry with center at (3, 3) where A, B, C, and D bend around maintaining equilibrium.'\n",
      "\n",
      "Verifying condition #3..\n",
      "based_on_known_conditions=[1, 4, 5, 6, 7, 8] new_condition='The square ABCD has a rotation of 45 degrees about its center relative to the large square.' reason='The directions given for points A, B, C, and D along 45-degree radials suggest a diagonal orientation with respect to the traditional coordinate axes.'\n",
      "\n",
      "Verifying condition #4..\n",
      "based_on_known_conditions=[5, 6] new_condition='The side length of square ABCD is derived from the distance calculated using point shifts.' reason='Using A and B, shifting radially such that A moves from (3, 3) to (3, 4) and B from (3, 3) to (4, 3), implies side length coincides with radial distance increments.'\n",
      "\n",
      "Verifying condition #5..\n",
      "based_on_known_conditions=[9] new_condition='Point P at (6,0) aligns directly on the x-axis of the large square extending east.' reason='This direct alignment implies we can analyze horizontal distances relevant to point A.'\n",
      "\n",
      "Checking if we have the answer..\n",
      "True\n",
      "thinker is thinking steps...\n",
      "Executor is trying to calculate the answer...\n",
      "The final answer is 5.99\n",
      "Extracting conditions and objective(s) from problem..\n",
      "Mining new conditions from existing (1/1)\n",
      "Verifying condition #1..\n",
      "based_on_known_conditions=[0] new_condition='The integers selected must be between 1 and 6, inclusive. Therefore, the possible sets of numbers Dakota could choose are from the combinations of these six integers.' reason='This is a straightforward amplification of the first known condition by clarifying that only the numbers 1 through 6 should be considered in selecting the three integers.'\n",
      "\n",
      "Verifying condition #2..\n",
      "based_on_known_conditions=[1] new_condition='To be capable of forming a triangle, the sum of the lengths of any two sides must be greater than the length of the third side (Triangle Inequality Theorem).' reason='This condition is a direct application of the fundamental geometric principle governing the formation of triangles, essential for determining if a combination of three numbers can form a valid triangle.'\n",
      "\n",
      "Verifying condition #3..\n",
      "based_on_known_conditions=[0, 1] new_condition='The set of three numbers selected should satisfy these inequalities: a + b > c, a + c > b, b + c > a, where a, b, and c are the three numbers Dakota selects.' reason='Integrating the set of possible numbers with the requirements of the Triangle Inequality Theorem to filter which combinations of numbers can constitute the sides of a triangle.'\n",
      "\n",
      "Verifying condition #4..\n",
      "based_on_known_conditions=[0, 1] new_condition='Calculate all possible combinations of three numbers from the chosen integers and apply the Triangle Inequality Theorem to each combination to determine its validity as a triangle.' reason='To methodically determine the viability of each potential selection Dakota might make, this condition provides a systematic approach to assess which combinations adhere to the triangle formation rules.'\n",
      "\n",
      "Checking if we have the answer..\n",
      "True\n",
      "thinker is thinking steps...\n",
      "Executor is trying to calculate the answer...\n",
      "The final answer is 0.35\n",
      "Extracting conditions and objective(s) from problem..\n",
      "Mining new conditions from existing (1/1)\n",
      "Verifying condition #1..\n",
      "based_on_known_conditions=[2, 3, 4] new_condition=\"The sum of the areas of the triangles formed by point 'P' and the sides of triangle 'ABC' is 0.5 * 5 * s + 0.5 * 6 * s + 0.5 * 7 * s, where 's' is the side length of the equilateral triangle ABC.\" reason=\"The area of a triangle can be calculated using the formula: 0.5 * base * height. Here, 'base' refers to the length of each side of triangle 'ABC', which is 's'. Since point 'P' is inside the triangle, we can split triangle 'ABC' into three smaller triangles by making point 'P' a vertex with each side. The sum of these areas gives the total area of triangle 'ABC'.\"\n",
      "\n",
      "Verifying condition #2..\n",
      "based_on_known_conditions=[1, 2, 3, 4] new_condition=\"The area of the equilateral triangle ABC can be expressed as (5 + 6 + 7) * s / 2, where 's' is the side length of the triangle.\" reason=\"Since the point 'P' lies inside the triangle, the area of triangle 'ABC' can be derived by adding up the areas of the smaller triangles created by the altitudes from 'P'. Each smaller triangle shares one side 's' with the equilateral triangle. Thus, the sum of these smaller areas (0.5 * s * 5 + 0.5 * s * 6 + 0.5 * s * 7) equals the area of triangle 'ABC'.\"\n",
      "\n",
      "Checking if we have the answer..\n",
      "False\n",
      "thinker is thinking steps...\n",
      "Executor is trying to calculate the answer...\n",
      "The final answer is 0.0\n",
      "Extracting conditions and objective(s) from problem..\n",
      "Mining new conditions from existing (1/1)\n",
      "Verifying condition #1..\n",
      "based_on_known_conditions=[0] new_condition='(x-4)^2 + y^2 = 16' reason='This condition represents the boundary circle with center at (4,0) and radius 4, derived from the inequality that represents the circle area condition.'\n",
      "\n",
      "Verifying condition #2..\n",
      "based_on_known_conditions=[1, 2] new_condition='Intersection of y=x-4 and y=-\\\\frac{1}{3}x occurs at point (3, -1)' reason='By setting y=x-4 and y=-\\\\frac{1}{3}x equal to determine where the two lines intersect, solving these equations simultaneously yields the intersection point (3, -1).'\n",
      "\n",
      "Verifying condition #3..\n",
      "based_on_known_conditions=[0, 1] new_condition='The line y = x - 4 intersects the circle at points (1, -3) and (5, 1)' reason='By substituting y=x-4 into the circle equation (x-4)^2 + y^2 = 16 and solving, we find the points of intersection between the line and the circle.'\n",
      "\n",
      "Verifying condition #4..\n",
      "based_on_known_conditions=[0, 2] new_condition='The line y = -\\\\frac{1}{3}x intersects the circle at point (4, 0)' reason='By substituting y=-\\\\frac{1}{3}x into the circle equation and solving, we find the intersection at the center of the circle.'\n",
      "\n",
      "Verifying condition #5..\n",
      "based_on_known_conditions=[0, 1, 2] new_condition='The vertices of the enclosed region are (1, -3), (3, -1), and (4, 0)' reason='These points are found by determining the intersection points between the lines and the circle. These points form the vertices of the polygonal region that will be considered in calculating the area.'\n",
      "\n",
      "Checking if we have the answer..\n",
      "True\n",
      "thinker is thinking steps...\n",
      "Executor is trying to calculate the answer...\n",
      "The final answer is 5.66\n",
      "Extracting conditions and objective(s) from problem..\n",
      "Mining new conditions from existing (1/1)\n",
      "Verifying condition #1..\n",
      "based_on_known_conditions=[1, 2, 3] new_condition='Triangle ABC has sides in the ratio AB:AC:BC = 7:8:9.' reason='Comparing the side lengths given in the conditions allows us to find the proportional relationship of the triangle sides.'\n",
      "\n",
      "Verifying condition #2..\n",
      "based_on_known_conditions=[3, 4, 5] new_condition='Since AD bisects angle BAC, it follows that AB/AC = BD/DC.' reason='By the Angle Bisector Theorem, if a point D lies on the arc opposite to line segment BC and if AD is the angle bisector, then AB/AC = BD/DC.'\n",
      "\n",
      "Verifying condition #3..\n",
      "based_on_known_conditions=[1, 2, 5] new_condition='AD/DC = AB/AC = 7/8.' reason='By the Angle Bisector Theorem, AD/DC is equal to AB/AC, which can be calculated directly from the known side lengths.'\n",
      "\n",
      "Verifying condition #4..\n",
      "based_on_known_conditions=[5] new_condition='AD and DC are related through the Angle Bisector Theorem, and their ratio can be expressed using the segments BD and DC.' reason='Based on the Angle Bisector Theorem, the internal ratios can be used for finding relationships between the side lengths and segments intersected by bisectors in a triangle.'\n",
      "\n",
      "Checking if we have the answer..\n",
      "True\n",
      "thinker is thinking steps...\n",
      "Executor is trying to calculate the answer...\n",
      "The final answer is 0.875\n",
      "Extracting conditions and objective(s) from problem..\n",
      "Mining new conditions from existing (1/1)\n",
      "Verifying condition #1..\n",
      "based_on_known_conditions=[1, 2, 3] new_condition='Each vertex of the smaller squares forms a unit with vertices of the larger square either aligning or extending beyond.' reason='Placing smaller squares at the corners of the larger square implies their vertices interact with the edge of the larger square.'\n",
      "\n",
      "Verifying condition #2..\n",
      "based_on_known_conditions=[4, 1, 3] new_condition=\"Points W, X, Y, Z are located on the boundary of the large square and in alignment with the smaller squares' vertices.\" reason='Given the side length and arrangement, these points must coincide with the smaller square vertices extended from the corners of the larger square.'\n",
      "\n",
      "Verifying condition #3..\n",
      "based_on_known_conditions=[5, 4] new_condition='Square ABCD is tangential such that it circumscribes the smaller squares, with sides passing through W, X, Y, Z.' reason='W, X, Y, Z define the tangency points for the sides of the resulting square ABCD.'\n",
      "\n",
      "Verifying condition #4..\n",
      "based_on_known_conditions=[1, 2, 5] new_condition='The side length of square ABCD is equal to or greater than the diagonal of the smaller squares.' reason=\"Since ABCD's sides intersect the points defining the small squares' placement, they accommodate the diagonal extensions.\"\n",
      "\n",
      "Verifying condition #5..\n",
      "based_on_known_conditions=[6] new_condition='Point P is horizontally aligned with the entire construction on a plane, being directly east of the origin of the large square.' reason='Point P located at (6, 0) determines it lies precisely along the horizontal axis, tangent or extended from one axis of the constructed squares.'\n",
      "\n",
      "Verifying condition #6..\n",
      "based_on_known_conditions=[3, 6] new_condition='The maximum distance extends radially from point P to the farthest vertex or interaction point of square ABCD.' reason=\"This will include diagonals visible from P to ABCD, maximizing the radial distance from its position within or outside the larger square's boundary.\"\n",
      "\n",
      "Checking if we have the answer..\n",
      "True\n",
      "thinker is thinking steps...\n",
      "Executor is trying to calculate the answer...\n",
      "The final answer is 6.0\n",
      "Extracting conditions and objective(s) from problem..\n",
      "Mining new conditions from existing (1/1)\n",
      "Verifying condition #1..\n",
      "based_on_known_conditions=[0, 1] new_condition='The sum of any two sides of the selected integers must be greater than the third integer.' reason='According to the triangle inequality theorem, this condition is necessary for three numbers to form a triangle.'\n",
      "\n",
      "Verifying condition #2..\n",
      "based_on_known_conditions=[0] new_condition='The number of ways to choose three different integers from the set {1, 2, 3, 4, 5, 6} is C(6,3) = 20.' reason='This is a combinatorial selection process, where we are choosing 3 elements from a set of 6.'\n",
      "\n",
      "Verifying condition #3..\n",
      "based_on_known_conditions=[0] new_condition='Possible combinations of chosen integers are: (1,2,3), (1,2,4), (1,2,5), (1,2,6), (1,3,4), (1,3,5), (1,3,6), (1,4,5), (1,4,6), (1,5,6), (2,3,4), (2,3,5), (2,3,6), (2,4,5), (2,4,6), (2,5,6), (3,4,5), (3,4,6), (3,5,6), (4,5,6).' reason='This follows from the combination of selecting 3 distinct integers from a set of 6.'\n",
      "\n",
      "Verifying condition #4..\n",
      "based_on_known_conditions=[0, 1] new_condition='The group (1, 2, 3) cannot form a triangle because 1 + 2 is not greater than 3.' reason='Applying the triangle inequality, this specific combination fails to meet the necessary criteria.'\n",
      "\n",
      "Verifying condition #5..\n",
      "based_on_known_conditions=[0, 1] new_condition='The group (1, 2, 4) cannot form a triangle because 1 + 2 is not greater than 4.' reason='The triangle inequality theorem provides that the sum of two sides must be greater than the third.'\n",
      "\n",
      "Verifying condition #6..\n",
      "based_on_known_conditions=[0, 1] new_condition=\"Each of (1, 2, 5), (1, 2, 6), and similar groups fail the triangle test for similar reasons that the sum of the smaller two of them doesn't exceed the third.\" reason='By symmetry and extending the triangle inequality logic, these combinations can be immediately eliminated.'\n",
      "\n",
      "Checking if we have the answer..\n",
      "True\n",
      "thinker is thinking steps...\n",
      "Executor is trying to calculate the answer...\n",
      "The final answer is 0.35\n"
     ]
    }
   ],
   "source": [
    "import re\n",
    "from utils.custom_logger import CustomLogger\n",
    "from utils.create_assistant import create_agents_and_thread\n",
    "from chains.main2.main import main # THIS IS THE ONLY DIFFERENCE\n",
    "\n",
    "\n",
    "# Use the same agents and threads to (ideally) limit code sessions\n",
    "coding_assistant, coding_thread = create_agents_and_thread()\n",
    "\n",
    "# Make nested arr\n",
    "verify_arr = [f\"Problem {i} -> \" for i,_ in enumerate(samples)]\n",
    "# 3 runs of 5 problems\n",
    "for i in range(3):\n",
    "    for j, problem in enumerate(samples):\n",
    "        CustomLogger.update_path(f\"run-{i}/problem-{j}\")\n",
    "        CustomLogger.default_log(\"Problem File Path\", problem[\"file_path\"])\n",
    "\n",
    "        max_times_mining_new = 1  # The upper limit of the mining times\n",
    "        question = problem[\"problem\"]\n",
    "        our_answer = main(question, max_times_mining_new, coding_assistant, coding_thread)\n",
    "\n",
    "\n",
    "        # TODO: fix the capture group - currently it says everything is incorrect\n",
    "        # Validate\n",
    "    \n",
    "        actual_answer = re.search(r'\\\\boxed{([^}]*)}', problem[\"solution\"]).group(1)\n",
    "        if actual_answer:\n",
    "            CustomLogger.default_log(\"Actual Answer\", actual_answer)\n",
    "            if True:\n",
    "                CustomLogger.default_log(\"Correct\")\n",
    "                verify_arr[j]+= \"correct \"\n",
    "        \n",
    "        else:\n",
    "            CustomLogger.default_log(\"Incorrect\")\n",
    "            verify_arr[j]+= \"incorrect \"\n",
    "            \n",
    "\n",
    "# Log verify arr -> validation\n",
    "CustomLogger.update_path(\"validation\")\n",
    "CustomLogger.default_log(\"Results\", *verify_arr)\n",
    "\n",
    "\n",
    "        \n",
    "\n"
   ]
  }
 ],
 "metadata": {
  "kernelspec": {
   "display_name": "Python 3",
   "language": "python",
   "name": "python3"
  },
  "language_info": {
   "codemirror_mode": {
    "name": "ipython",
    "version": 3
   },
   "file_extension": ".py",
   "mimetype": "text/x-python",
   "name": "python",
   "nbconvert_exporter": "python",
   "pygments_lexer": "ipython3",
   "version": "3.10.11"
  }
 },
 "nbformat": 4,
 "nbformat_minor": 2
}
