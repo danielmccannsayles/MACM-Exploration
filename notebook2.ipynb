{
 "cells": [
  {
   "cell_type": "markdown",
   "metadata": {},
   "source": [
    "### Setup"
   ]
  },
  {
   "cell_type": "code",
   "execution_count": 1,
   "metadata": {},
   "outputs": [],
   "source": [
    "# reload imports.\n",
    "%load_ext autoreload\n",
    "%autoreload 2"
   ]
  },
  {
   "cell_type": "code",
   "execution_count": 9,
   "metadata": {},
   "outputs": [
    {
     "name": "stdout",
     "output_type": "stream",
     "text": [
      "479\n",
      "132\n",
      "Point $P$ is inside equilateral triangle $ABC$ such that the altitudes from $P$ to $\\overline{AB}$, $\\overline{BC}$, and $\\overline{CA}$ have lengths 5, 6, and 7 respectively.  What is the area of triangle $ABC$?\n",
      "./MATH/test/geometry/990.json\n"
     ]
    }
   ],
   "source": [
    "import os\n",
    "import json\n",
    "\n",
    "# Gemotry - t\n",
    "folder_path = \"./MATH/test/geometry/\"\n",
    "json_files = [f for f in os.listdir(folder_path) if f.endswith('.json')]\n",
    "\n",
    "# Store each in list\n",
    "json_objects = []\n",
    "for file in json_files:\n",
    "    file_path = os.path.join(folder_path, file)\n",
    "    with open(file_path, 'r') as f:\n",
    "        json_data = json.load(f)\n",
    "        json_data[\"file_path\"]=file_path # Add file path so we can keep track of them easily\n",
    "        json_objects.append(json_data)\n",
    "\n",
    "print(len(json_objects))\n",
    "filtered_json_objects = [obj for obj in json_objects if obj.get('level') == 'Level 5']\n",
    "print(len(filtered_json_objects))\n",
    "\n",
    "# Get 5 random ones\n",
    "import random\n",
    "\n",
    "random.seed(10)\n",
    "samples = random.sample(filtered_json_objects, 5)\n",
    "\n",
    "question = samples[0]['problem']\n",
    "print(question)\n",
    "print(samples[0][\"file_path\"])"
   ]
  },
  {
   "cell_type": "markdown",
   "metadata": {},
   "source": [
    "### Idea"
   ]
  },
  {
   "cell_type": "markdown",
   "metadata": {},
   "source": [
    "Maybe I should try asking it to solve to the end to start, and have it return a list of steps. Then I can go back and see how many are correct?\n",
    "We can limit this by only having it create max 5 steps.\n",
    "\n",
    "Then we can go through step by step. For each step->\n",
    "\n",
    "** For now, avoid this recursive breaking up **\n",
    "\n",
    "1. Should we break this further into steps? is it too detailed?\n",
    "    1. If so, repeat this process and recurse\n",
    "2. If not, then we analyze this step, and extract the following things\n",
    "    - Proven mathematical relationships - written as formulas\n",
    "    - Problem relationships - written without math, just words. Some sort of logical condition in the project\n",
    "    - Intermediate math relationships - numerical relationships between parts of the problem. Only valid in this context. Uses a math formula and some specific knowledge. Break up into a proven math rel and a problem rel\n",
    "\n",
    "3. We need to verify the above. \n",
    "    - Proven math relations can be verified by asking\n",
    "    - Problem relationships verified by asking as well\n",
    "    - Intermediate math relationships should have any math relations verified, then any problem relationships verified, then finally they should be executed and verified with code\n",
    "\n",
    "4. Now the step is good to go. We can re-write it to show the verified above things. We can also store the proven relationships and problem relationships seperately. \n",
    "\n",
    "5. Now if at any point in the larger step we had a problem, we are going to have to recalculate the rest of the steps. If it's the same we can continue through the steps, but if its different it may change the next ones.\n",
    "    - I think this is fine. We need some way of error correcting, and propogating that correction\n",
    "\n",
    "6. Now this is all very good for fixing problems with steps, but what if the whole approach is wrong in some way? Eventually we will build up a list of correct steps, but not all of them will be relevant. And there may be a better order? for some. (Though the order should be fixed by regenerating steps each time.. hmm)\n",
    "Not sure what to do *yet* here\n",
    "\n",
    "Original step by step idea->\n",
    "1. Ask what it would like to do - what is the first step, given what we have.\n",
    "2. Then analyze the step it returns - what is the rationale behind it? What outside theorems does it use? What new assumptions does it make?\n",
    "3. Check each assumption individually, and iterate until we get a good first step.\n",
    "4. Then do this step, update the knowns, and then repeat the process until we get the objective"
   ]
  },
  {
   "cell_type": "code",
   "execution_count": 11,
   "metadata": {},
   "outputs": [
    {
     "name": "stdout",
     "output_type": "stream",
     "text": [
      "steps=['1. **Understanding the Problem: Relationship Between Altitudes and Area of Triangle**\\n   - For any point P inside an equilateral triangle ABC, the sum of the perpendicular distances from P to each side of the triangle is equal to the length of the altitude of the equilateral triangle.\\n   - Let h represent the altitude of triangle ABC. Then, \\\\( h = 8 + 6 + 7 = 21 \\\\).', '2. **Relating Altitude to the Side Length of Triangle ABC**\\n   - The altitude (h) of an equilateral triangle with side length s is given by \\\\( h = \\\\frac{s\\\\sqrt{3}}{2} \\\\).\\n   - Using the obtained altitude \\\\( h = 21 \\\\), set up the equation: \\\\[ 21 = \\\\frac{s\\\\sqrt{3}}{2} \\\\].', '3. **Solving for the Side Length (s) of Triangle ABC**\\n   - Rearrange the equation: \\\\( s\\\\sqrt{3} = 42 \\\\ ).\\n   - Solve for s: \\\\( s = \\\\frac{42}{\\\\sqrt{3}} = 14\\\\sqrt{3}/3 \\\\).', '4. **Finding the Area Using the Side Length**\\n   - Recall the formula for the area of an equilateral triangle: \\\\( \\\\text{Area} = \\\\frac{s^2\\\\sqrt{3}}{4} \\\\).\\n   - Substitute the side length \\\\( s = 14\\\\sqrt{3}/3 \\\\) into the area formula.\\n   - Compute the area: \\\\[ \\\\text{Area} = \\\\frac{\\\\left(\\\\frac{14\\\\sqrt{3}}{3}\\\\right)^2 \\\\sqrt{3}}{4} = \\\\frac{196 \\\\times 3 \\\\times \\\\sqrt{3}/9}{4} = \\\\frac{588\\\\sqrt{3}/9}{4} = \\\\frac{147\\\\sqrt{3}}{4} \\\\].', '5. **Concluding the Calculation for the Area**\\n   - Simplify the area result: \\\\( \\\\text{Area} = \\\\frac{147\\\\sqrt{3}}{4} \\\\) is the area of triangle ABC.'] summary='The problem is based on a known property of equilateral triangles related to altitudes. Given the distances from an internal point to the sides of the triangle, we equate the sum of these distances to the actual altitude of the triangle. This allows us to determine the side length of the triangle from its altitude and then compute the area using standard formulas for equilateral triangles.'\n"
     ]
    }
   ],
   "source": [
    "# 1. Try and solve the original problem, using max 5 steps. Have it format them w/ schema.\n",
    "# Go step by step..\n",
    "from utils.async_gpt import agenerate_from_gpt_with_schema, agenerate_from_gpt\n",
    "from pydantic import BaseModel\n",
    "\n",
    "class Steps(BaseModel):\n",
    "    steps: list[str]\n",
    "    summary: str\n",
    "\n",
    "# Writing out the question here. I want to change the numbers to check if its still correct\n",
    "question = \"\"\"Point $P$ is inside equilateral triangle $ABC$ such that the altitudes from $P$ to $\\overline{AB}$, $\\overline{BC}$, and $\\overline{CA}$ have lengths 8, 6, and 7 respectively.  What is the area of triangle $ABC$?\n",
    "\"\"\"\n",
    "\n",
    "create_steps_prompt = \"\"\"\n",
    "Given the question:\n",
    "{question}\n",
    "\n",
    "Return a series of steps to solve the question. Return a maximum of 5 steps. Be detailed.\n",
    "Additionally, give a brief summary on the overall strategy, or any key points\n",
    "\"\"\"\n",
    "\n",
    "async def create_steps(question):\n",
    "    \"\"\"\n",
    "    Create steps to solve a question\n",
    "    \"\"\"\n",
    "    messages = [\n",
    "        {\n",
    "            \"role\": \"user\",\n",
    "            \"content\": create_steps_prompt.format(question=question),\n",
    "        },\n",
    "    ]\n",
    "    steps: Steps = await agenerate_from_gpt_with_schema(\n",
    "        messages, Steps\n",
    "    )\n",
    "\n",
    "    return steps\n",
    "\n",
    "steps = await create_steps(question)\n",
    "print(steps)"
   ]
  },
  {
   "cell_type": "code",
   "execution_count": null,
   "metadata": {},
   "outputs": [],
   "source": [
    "# When I change the question manually, it seems to get it wrong. I should check this out by running 20 or so times each. \n",
    "# THis is kind of expected, after reading that paper about how the models are likely learning common problems"
   ]
  },
  {
   "cell_type": "code",
   "execution_count": 20,
   "metadata": {},
   "outputs": [],
   "source": [
    "# 2. Let's go through step by step and see if each step is good. \n",
    "# Generate an explanation for why or why not it's correct. Then return true/false. If any step is wrong, we re-calculate the next steps\n",
    "from utils.async_gpt import agenerate_from_gpt_with_schema, agenerate_from_gpt\n",
    "from pydantic import BaseModel\n",
    "\n",
    "class VerifyStep(BaseModel):\n",
    "    reasoning: str\n",
    "    correct: bool\n",
    "\n",
    "\n",
    "verify_step_prompt = \"\"\"\n",
    "Given the following info, verify if the CURRENT STEP is correct. \n",
    "Assume the question and any previous steps are correct.\n",
    "ONLY VERIFY the current step.\n",
    "Return the reasoning for why or why not it is correct, and a bool for if it is correct or not\n",
    "\n",
    "Existing Info ====\n",
    "Question:\n",
    "{question}\n",
    "\n",
    "{prev_steps_str}\n",
    "\n",
    "New ====\n",
    "Current step:\n",
    "{current_step}\n",
    "\n",
    "\"\"\"\n",
    "\n",
    "async def verify_step(question: str, prev_steps: list[str], current_step: str):\n",
    "    \"\"\"\n",
    "    Verify a step given the previous ones. \n",
    "    * Note: we do not care if this step is helpful towards the objective. We're just checking the assumptions it makes.\n",
    "    \"\"\"\n",
    "    if len(prev_steps) == 0:\n",
    "        prev_steps_str = \"\"\n",
    "    else:\n",
    "        # Turn prev steps to str\n",
    "        numbered_list = \"\\n\".join([f\"Step {i+1}:\\n {step}\" for i, step in enumerate(prev_steps)])\n",
    "        prev_steps_str = f\"Previous Steps:\\n {numbered_list}\"\n",
    "\n",
    "    messages = [\n",
    "        {\n",
    "            \"role\": \"user\",\n",
    "            \"content\": verify_step_prompt.format(question=question, prev_steps_str=prev_steps_str, current_step=current_step),\n",
    "        },\n",
    "    ]\n",
    "    verify: VerifyStep = await agenerate_from_gpt_with_schema(\n",
    "        messages, VerifyStep\n",
    "    )\n",
    "\n",
    "    return verify\n"
   ]
  },
  {
   "cell_type": "code",
   "execution_count": 24,
   "metadata": {},
   "outputs": [],
   "source": [
    "# 2.1 If a step is wrong, we'll want to correct it.\n",
    "# For now lets try giving the function all the info. We will give it the existing info, the previous incorrect step, and the reasoning behind it\n",
    "from utils.async_gpt import agenerate_from_gpt\n",
    "\n",
    "\n",
    "previous_info_prompt = \"\"\"\n",
    "Existing True Information ====\n",
    "Question:\n",
    "{question}\n",
    "\n",
    "{prev_steps_str}\n",
    "\"\"\"\n",
    "\n",
    "wrong_step_prompt = \"\"\"\n",
    "New Information ===\n",
    "Current step (incorrect):\n",
    "{current_step}\n",
    "\n",
    "Provided reason why current step is incorrect:\n",
    "{reason}\n",
    "\"\"\"\n",
    "\n",
    "ask=\"\"\"\n",
    "The existing true information has been verified. It shows the preceding steps.\n",
    "The new information shows the generated current step. This current step contains an error in it. The reason for the error is given.\n",
    "\n",
    "Your job is to rewrite this current step so that it is CORRECT. Use the reason given to fix the current step.\n",
    "Refer back to the existing true information for verified assumptions. Do not add new ideas. \n",
    "Fix the current step for the reason provided, and return ONLY the new current step.\n",
    "\"\"\"\n",
    "\n",
    "\n",
    "async def fix_step(question: str, prev_steps: list[str], current_step: str, reason: str):\n",
    "    \"\"\"\n",
    "    Fix a step that was said to be wrong. Returns the new step.\n",
    "    Currently we are giving all the information. In the future consider limiting scope\n",
    "    \"\"\"\n",
    "    if len(prev_steps) == 0:\n",
    "        prev_steps_str = \"\"\n",
    "    else:\n",
    "        # Turn prev steps to str\n",
    "        numbered_list = \"\\n\".join([f\"Step {i+1}:\\n {step}\" for i, step in enumerate(prev_steps)])\n",
    "        prev_steps_str = f\"Previous Steps:\\n {numbered_list}\"\n",
    "\n",
    "    messages = [\n",
    "        {\"role\": \"assistant\",\n",
    "            \"content\": previous_info_prompt.format(question=question, prev_steps_str=prev_steps_str)},\n",
    "\n",
    "        {\n",
    "            \"role\": \"assistant\",\n",
    "            \"content\": wrong_step_prompt.format(current_step=current_step, reason=reason),\n",
    "        },\n",
    "        {\n",
    "            \"role\": \"user\",\n",
    "            \"content\": ask,\n",
    "        },\n",
    "    ]\n",
    "    new_step = await agenerate_from_gpt(\n",
    "        messages\n",
    "    )\n",
    "\n",
    "    return new_step\n"
   ]
  },
  {
   "cell_type": "code",
   "execution_count": null,
   "metadata": {},
   "outputs": [],
   "source": [
    "# 2.2 Once we've regenerated a step, we need to regenerate the rest of the steps as well.."
   ]
  },
  {
   "cell_type": "code",
   "execution_count": 23,
   "metadata": {},
   "outputs": [
    {
     "name": "stdout",
     "output_type": "stream",
     "text": [
      "Step #0============\n",
      "Correct: True\n",
      "Reasoning: In an equilateral triangle, the sum of perpendiculars from any point inside the triangle to the three sides is equal to the length of the triangle's altitude. This is a property of equilateral triangles that follows from symmetry and equal division of area by the internal perpendiculars. Given the problem statement, point P is inside triangle ABC, and the lengths of the altitudes from P to the sides are 8, 6, and 7, respectively. Therefore, the altitude h of the triangle should indeed be the sum of these altitudes: 21. \n",
      "\n",
      "Thus, the step correctly uses this geometric property to compute the altitude of triangle ABC.\n",
      "Step #1============\n",
      "Correct: True\n",
      "Reasoning: The current step relates the altitude of the equilateral triangle to its side length using the correct formula for an equilateral triangle's altitude. For an equilateral triangle with side length $s$, the altitude is indeed given by \\( h = \\frac{s\\sqrt{3}}{2} \\). This formula correctly relates the side length to the altitude by using the Pythagorean theorem in the 30-60-90 right triangle that forms when an altitude is drawn in an equilateral triangle. \n",
      "\n",
      "Given the altitude \\( h = 21 \\), the equation \\( 21 = \\frac{s\\sqrt{3}}{2} \\) is set up correctly to find the side length $s$ of triangle $ABC$. Therefore, the current step uses the right relationship and setup to further solve for the triangle’s side length, paving the way to calculate the area of the triangle.\n",
      "\n",
      "Thus, the reasoning for the current step is correct and aligns with the properties of an equilateral triangle.\n",
      "Step #2============\n",
      "Correct: False\n",
      "Reasoning: To verify the correctness of the current step, we need to focus on the mathematical operations that were used to solve for the side length (s) of triangle ABC. Let's walk through the process:\n",
      "\n",
      "1. **Rearranging the Equation**:\n",
      "   - The given equation from the previous step is: \n",
      "     \\[ 21 = \\frac{s\\sqrt{3}}{2} \\]\n",
      "   - Multiply both sides by 2 to clear the fraction: \n",
      "     \\[ 42 = s\\sqrt{3} \\]\n",
      "\n",
      "2. **Solving for s**:\n",
      "   - We want to isolate s. Hence, we divide both sides by \\( \\sqrt{3} \\): \n",
      "     \\[ s = \\frac{42}{\\sqrt{3}} \\]\n",
      "   - Rationalizing the denominator, we multiply the numerator and the denominator by \\( \\sqrt{3} \\): \n",
      "     \\[ s = \\frac{42 \\times \\sqrt{3}}{3} \\]\n",
      "   - Simplifying the expression, we get:\n",
      "     \\[ s = 14\\sqrt{3} \\]\n",
      "\n",
      "**Verification**:\n",
      "\n",
      "- In the current step, the simplified form of s is presented as \\( \\frac{14\\sqrt{3}}{3} \\), which contradicts our calculations. \n",
      "- The correct simplification should yield \\( s = 14\\sqrt{3} \\).\n",
      "\n",
      "Thus, the final expression for s in the current step has been incorrectly simplified.\n",
      "Done\n"
     ]
    }
   ],
   "source": [
    "# 3. Let's go step by step and verify the step. For now, we'll just print the verification. Once it fails, we'll stop the loop\n",
    "prev_steps = []\n",
    "for i, current_step in enumerate(steps.steps):\n",
    "    verify = await verify_step(question, prev_steps, current_step)\n",
    "    print(f\"Step #{i+1}============\\nCorrect: {verify.correct}\\nReasoning: {verify.reasoning}\", )\n",
    "    if not verify.correct:\n",
    "        break\n",
    "    prev_steps.append(current_step) \n",
    "\n",
    "print(\"Done\")\n",
    "\n",
    "# If a step is done, let's correct i"
   ]
  },
  {
   "cell_type": "code",
   "execution_count": null,
   "metadata": {},
   "outputs": [],
   "source": [
    "# 2. Analyze the step, and extract the following: \n",
    "# proven mathematical relationships (external)\n",
    "# Problem relationships (conditions and 2nd level conditions). These need to be supported by the question.\n",
    "# Intermediate math relationships - furtther extract from each one,\n",
    "    # proven math rels\n",
    "    # problem rels"
   ]
  },
  {
   "cell_type": "code",
   "execution_count": null,
   "metadata": {},
   "outputs": [],
   "source": [
    "# 3. Verify and *correct* all above. \n",
    "# If a math relationship was wrong, we want to correct it by asking gpt\n",
    "# If a problem relationship was wrong, we want to correct it by asking gpt\n",
    "# If an intermediate math relationship was wrong, we want to correct it by fixing the problem rel or the math rel, and then re-calculating w/ code assistant\n",
    "\n",
    "# We should only calculate each relationship once. So if an intermediate math relationship relies on a proven math rel or a problem rel,\n",
    "# and one of those rels are wrong, it has to be re-calculated."
   ]
  },
  {
   "cell_type": "code",
   "execution_count": null,
   "metadata": {},
   "outputs": [],
   "source": [
    "# 4. Now we have verified the step. If it changed we need to re-run the step generation here. We will re-run # 1 but ask it to generate 4\n",
    "# steps now, and give it the first step."
   ]
  },
  {
   "cell_type": "code",
   "execution_count": null,
   "metadata": {},
   "outputs": [],
   "source": [
    "# 5. We should do some other stuff here.."
   ]
  }
 ],
 "metadata": {
  "kernelspec": {
   "display_name": "Python 3",
   "language": "python",
   "name": "python3"
  },
  "language_info": {
   "codemirror_mode": {
    "name": "ipython",
    "version": 3
   },
   "file_extension": ".py",
   "mimetype": "text/x-python",
   "name": "python",
   "nbconvert_exporter": "python",
   "pygments_lexer": "ipython3",
   "version": "3.10.15"
  }
 },
 "nbformat": 4,
 "nbformat_minor": 2
}
